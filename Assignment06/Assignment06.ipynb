{
 "cells": [
  {
   "cell_type": "code",
   "execution_count": 7,
   "metadata": {
    "scrolled": true
   },
   "outputs": [],
   "source": [
    "import numpy as np"
   ]
  },
  {
   "cell_type": "code",
   "execution_count": 9,
   "metadata": {},
   "outputs": [],
   "source": [
    "my_array = np.array([[1,2,3,4], [5,6,7,8]], dtype=np.int64)"
   ]
  },
  {
   "cell_type": "code",
   "execution_count": 10,
   "metadata": {},
   "outputs": [
    {
     "name": "stdout",
     "output_type": "stream",
     "text": [
      "[[1 2 3 4]\n",
      " [5 6 7 8]]\n"
     ]
    }
   ],
   "source": [
    "print(my_array)"
   ]
  },
  {
   "cell_type": "code",
   "execution_count": 11,
   "metadata": {},
   "outputs": [
    {
     "data": {
      "text/plain": [
       "array([0.  , 0.25, 0.5 , 0.75, 1.  , 1.25, 1.5 , 1.75, 2.  ])"
      ]
     },
     "execution_count": 11,
     "metadata": {},
     "output_type": "execute_result"
    }
   ],
   "source": [
    "np.ones((3,4))\n",
    "np.zeros((2,3,4),dtype=np.int16)\n",
    "np.random.random((2,2))\n",
    "np.empty((3,2))\n",
    "np.full((2,2),7)\n",
    "np.arange(10,25,5)\n",
    "np.linspace(0,2,9)"
   ]
  },
  {
   "cell_type": "code",
   "execution_count": 12,
   "metadata": {},
   "outputs": [
    {
     "name": "stdout",
     "output_type": "stream",
     "text": [
      "2\n",
      "8\n",
      "  C_CONTIGUOUS : True\n",
      "  F_CONTIGUOUS : False\n",
      "  OWNDATA : True\n",
      "  WRITEABLE : True\n",
      "  ALIGNED : True\n",
      "  WRITEBACKIFCOPY : False\n",
      "  UPDATEIFCOPY : False\n",
      "8\n",
      "64\n"
     ]
    }
   ],
   "source": [
    "print(my_array.ndim)\n",
    "print(my_array.size)\n",
    "print(my_array.flags)\n",
    "print(my_array.itemsize)\n",
    "print(my_array.nbytes)"
   ]
  },
  {
   "cell_type": "code",
   "execution_count": 13,
   "metadata": {},
   "outputs": [
    {
     "name": "stdout",
     "output_type": "stream",
     "text": [
      "2\n"
     ]
    },
    {
     "data": {
      "text/plain": [
       "array([[1., 2., 3., 4.],\n",
       "       [5., 6., 7., 8.]])"
      ]
     },
     "execution_count": 13,
     "metadata": {},
     "output_type": "execute_result"
    }
   ],
   "source": [
    "print(len(my_array))\n",
    "my_array.astype(float)"
   ]
  },
  {
   "cell_type": "code",
   "execution_count": 14,
   "metadata": {},
   "outputs": [
    {
     "name": "stdout",
     "output_type": "stream",
     "text": [
      "(3, 4)\n",
      "(3, 4)\n"
     ]
    },
    {
     "data": {
      "text/plain": [
       "array([[1.73778887, 1.8649821 , 1.6079626 , 1.75663986],\n",
       "       [1.03445466, 1.26438917, 1.29439905, 1.98253206],\n",
       "       [1.61931867, 1.52441822, 1.55228833, 1.76153565]])"
      ]
     },
     "execution_count": 14,
     "metadata": {},
     "output_type": "execute_result"
    }
   ],
   "source": [
    "x = np.ones((3,4))\n",
    "print(x.shape)\n",
    "y = np.random.random((3,4))\n",
    "print(y.shape)\n",
    "x + y"
   ]
  },
  {
   "cell_type": "code",
   "execution_count": 15,
   "metadata": {},
   "outputs": [
    {
     "data": {
      "text/plain": [
       "array([[[1.91772576, 1.67879547, 1.62573049, 1.07667318],\n",
       "        [1.91772576, 1.67879547, 1.62573049, 1.07667318],\n",
       "        [1.91772576, 1.67879547, 1.62573049, 1.07667318]],\n",
       "\n",
       "       [[1.11955728, 1.48116562, 1.27251287, 1.90084864],\n",
       "        [1.11955728, 1.48116562, 1.27251287, 1.90084864],\n",
       "        [1.11955728, 1.48116562, 1.27251287, 1.90084864]],\n",
       "\n",
       "       [[1.35302601, 1.70128268, 1.48061815, 1.24551141],\n",
       "        [1.35302601, 1.70128268, 1.48061815, 1.24551141],\n",
       "        [1.35302601, 1.70128268, 1.48061815, 1.24551141]],\n",
       "\n",
       "       [[1.50239861, 1.03407808, 1.88642162, 1.99520711],\n",
       "        [1.50239861, 1.03407808, 1.88642162, 1.99520711],\n",
       "        [1.50239861, 1.03407808, 1.88642162, 1.99520711]],\n",
       "\n",
       "       [[1.0597343 , 1.99575323, 1.40796837, 1.53009246],\n",
       "        [1.0597343 , 1.99575323, 1.40796837, 1.53009246],\n",
       "        [1.0597343 , 1.99575323, 1.40796837, 1.53009246]]])"
      ]
     },
     "execution_count": 15,
     "metadata": {},
     "output_type": "execute_result"
    }
   ],
   "source": [
    "x = np.ones((3,4))\n",
    "y= np.random.random((5,1,4))\n",
    "x+y"
   ]
  },
  {
   "cell_type": "code",
   "execution_count": 16,
   "metadata": {},
   "outputs": [
    {
     "data": {
      "text/plain": [
       "array([[[0.08227424, 0.32120453, 0.37426951, 0.0032486 ],\n",
       "        [0.08227424, 0.32120453, 0.37426951, 0.0032486 ],\n",
       "        [0.08227424, 0.32120453, 0.37426951, 0.0032486 ]],\n",
       "\n",
       "       [[0.04354179, 0.03766876, 0.18246138, 0.09915136],\n",
       "        [0.04354179, 0.03766876, 0.18246138, 0.09915136],\n",
       "        [0.04354179, 0.03766876, 0.18246138, 0.09915136]],\n",
       "\n",
       "       [[0.29394798, 0.29871732, 0.0387637 , 0.01795437],\n",
       "        [0.29394798, 0.29871732, 0.0387637 , 0.01795437],\n",
       "        [0.29394798, 0.29871732, 0.0387637 , 0.01795437]],\n",
       "\n",
       "       [[0.49760139, 0.01173579, 0.11357838, 0.00479289],\n",
       "        [0.49760139, 0.01173579, 0.11357838, 0.00479289],\n",
       "        [0.49760139, 0.01173579, 0.11357838, 0.00479289]],\n",
       "\n",
       "       [[0.04425118, 0.00424677, 0.18406326, 0.46990754],\n",
       "        [0.04425118, 0.00424677, 0.18406326, 0.46990754],\n",
       "        [0.04425118, 0.00424677, 0.18406326, 0.46990754]]])"
      ]
     },
     "execution_count": 16,
     "metadata": {},
     "output_type": "execute_result"
    }
   ],
   "source": [
    "np.add(x,y)\n",
    "\n",
    "np.subtract(x,y)\n",
    "\n",
    "np.multiply(x,y)\n",
    "\n",
    "np.divide(x,y)\n",
    "\n",
    "np.remainder(x,y)"
   ]
  },
  {
   "cell_type": "code",
   "execution_count": 20,
   "metadata": {},
   "outputs": [
    {
     "data": {
      "text/plain": [
       "array([[0., 0., 0., 0.],\n",
       "       [0., 0., 0., 0.],\n",
       "       [0., 0., 0., 0.]])"
      ]
     },
     "execution_count": 20,
     "metadata": {},
     "output_type": "execute_result"
    }
   ],
   "source": [
    "a = np.ones((3,4))\n",
    "b= np.random.random((3,4))\n",
    "np.logical_and(a,b)\n",
    "np.logical_or(a,b)\n",
    "np.logical_not(a,b)"
   ]
  },
  {
   "cell_type": "code",
   "execution_count": 21,
   "metadata": {},
   "outputs": [
    {
     "name": "stdout",
     "output_type": "stream",
     "text": [
      "[5 6 7 8]\n"
     ]
    },
    {
     "ename": "NameError",
     "evalue": "name 'my_2d_array' is not defined",
     "output_type": "error",
     "traceback": [
      "\u001b[1;31m---------------------------------------------------------------------------\u001b[0m",
      "\u001b[1;31mNameError\u001b[0m                                 Traceback (most recent call last)",
      "\u001b[1;32m<ipython-input-21-f690bea89352>\u001b[0m in \u001b[0;36m<module>\u001b[1;34m()\u001b[0m\n\u001b[0;32m      1\u001b[0m \u001b[0mprint\u001b[0m\u001b[1;33m(\u001b[0m\u001b[0mmy_array\u001b[0m\u001b[1;33m[\u001b[0m\u001b[1;36m1\u001b[0m\u001b[1;33m]\u001b[0m\u001b[1;33m)\u001b[0m\u001b[1;33m\u001b[0m\u001b[0m\n\u001b[1;32m----> 2\u001b[1;33m \u001b[0mprint\u001b[0m\u001b[1;33m(\u001b[0m\u001b[0mmy_2d_array\u001b[0m\u001b[1;33m[\u001b[0m\u001b[1;36m1\u001b[0m\u001b[1;33m]\u001b[0m\u001b[1;33m[\u001b[0m\u001b[1;36m2\u001b[0m\u001b[1;33m]\u001b[0m\u001b[1;33m)\u001b[0m\u001b[1;33m\u001b[0m\u001b[0m\n\u001b[0m\u001b[0;32m      3\u001b[0m \u001b[0mprint\u001b[0m\u001b[1;33m(\u001b[0m\u001b[0mmy_2d_array\u001b[0m\u001b[1;33m[\u001b[0m\u001b[1;36m1\u001b[0m\u001b[1;33m,\u001b[0m\u001b[1;36m2\u001b[0m\u001b[1;33m]\u001b[0m\u001b[1;33m)\u001b[0m\u001b[1;33m\u001b[0m\u001b[0m\n\u001b[0;32m      4\u001b[0m \u001b[0mprint\u001b[0m\u001b[1;33m(\u001b[0m\u001b[0mmy_3d_array\u001b[0m\u001b[1;33m[\u001b[0m\u001b[1;36m1\u001b[0m\u001b[1;33m,\u001b[0m\u001b[1;36m1\u001b[0m\u001b[1;33m,\u001b[0m\u001b[1;36m2\u001b[0m\u001b[1;33m]\u001b[0m\u001b[1;33m)\u001b[0m\u001b[1;33m\u001b[0m\u001b[0m\n",
      "\u001b[1;31mNameError\u001b[0m: name 'my_2d_array' is not defined"
     ]
    }
   ],
   "source": [
    "print(my_array[1])\n",
    "print(my_2d_array[1][2])\n",
    "print(my_2d_array[1,2])\n",
    "print(my_3d_array[1,1,2])"
   ]
  },
  {
   "cell_type": "code",
   "execution_count": null,
   "metadata": {},
   "outputs": [],
   "source": []
  }
 ],
 "metadata": {
  "kernelspec": {
   "display_name": "Python 3",
   "language": "python",
   "name": "python3"
  },
  "language_info": {
   "codemirror_mode": {
    "name": "ipython",
    "version": 3
   },
   "file_extension": ".py",
   "mimetype": "text/x-python",
   "name": "python",
   "nbconvert_exporter": "python",
   "pygments_lexer": "ipython3",
   "version": "3.6.4"
  }
 },
 "nbformat": 4,
 "nbformat_minor": 2
}
