{
 "cells": [
  {
   "cell_type": "markdown",
   "metadata": {
    "collapsed": true
   },
   "source": [
    "<table style=\"float:left; border:none\">\n",
    "   <tr style=\"border:none; background-color: #ffffff\">\n",
    "       <td style=\"border:none\">\n",
    "           <a href=\"http://bokeh.pydata.org/\">     \n",
    "           <img \n",
    "               src=\"assets/bokeh-transparent.png\" \n",
    "               style=\"width:50px\"\n",
    "           >\n",
    "           </a>    \n",
    "       </td>\n",
    "       <td style=\"border:none\">\n",
    "           <h1>Bokeh Tutorial</h1>\n",
    "       </td>\n",
    "   </tr>\n",
    "</table>\n",
    "\n",
    "<div style=\"float:right;\"><h2>01. Basic Plotting</h2></div>"
   ]
  },
  {
   "cell_type": "markdown",
   "metadata": {},
   "source": [
    "This section of the tutorial covers the [`bokeh.plotting`](http://bokeh.pydata.org/en/latest/docs/user_guide/plotting.html) \n",
    "interface. This interface is a \"mid-level\" interface, and the main idea can be described by the statement:\n",
    "\n",
    "**Starting from simple default figures (with sensible default tools, grids and axes), add markers and other shapes whose visual attributes are tied to directly data.**\n",
    "\n",
    "We will see that it is possible to customize and change all of the defaults, but having them means that it is possible to get up and running very quickly. "
   ]
  },
  {
   "cell_type": "markdown",
   "metadata": {},
   "source": [
    "# Imports and Setup\n",
    "\n",
    "When using the [`bokeh.plotting`](http://bokeh.pydata.org/en/latest/docs/user_guide/plotting.html) interface, there are a few common imports:\n",
    "* Use the [`figure`](http://bokeh.pydata.org/en/latest/docs/reference/plotting.html#bokeh.plotting.figure) function to  create new plot objects to work with. \n",
    "* Call the functions [`output_file`](http://bokeh.pydata.org/en/latest/docs/reference/resources_embedding.html#bokeh.io.output_file), [`output_notebook`](http://bokeh.pydata.org/en/latest/docs/reference/resources_embedding.html#bokeh.io.output_notebook), and [`output_server`](http://bokeh.pydata.org/en/latest/docs/reference/resources_embedding.html#bokeh.io.output_server) (possibly in combination) to tell Bokeh how to display or save output. \n",
    "* Execute [`show`](http://bokeh.pydata.org/en/latest/docs/reference/resources_embedding.html#bokeh.io.show) and  [`save`](http://bokeh.pydata.org/en/latest/docs/reference/resources_embedding.html#bokeh.io.save) to display or save plots and layouts."
   ]
  },
  {
   "cell_type": "code",
   "execution_count": 22,
   "metadata": {},
   "outputs": [],
   "source": [
    "from bokeh.io import output_notebook, show\n",
    "from bokeh.plotting import figure"
   ]
  },
  {
   "cell_type": "markdown",
   "metadata": {},
   "source": [
    "In this case, we are in the Jupyter notebook, so call `output_notebook()`. We only need to call this once, and all subsequent calls to `show()` will display inline in the notebook."
   ]
  },
  {
   "cell_type": "code",
   "execution_count": 5,
   "metadata": {},
   "outputs": [
    {
     "data": {
      "text/html": [
       "\n",
       "    <div class=\"bk-root\">\n",
       "        <a href=\"https://bokeh.pydata.org\" target=\"_blank\" class=\"bk-logo bk-logo-small bk-logo-notebook\"></a>\n",
       "        <span id=\"3048d736-ddf3-4beb-a840-876206ca0954\">Loading BokehJS ...</span>\n",
       "    </div>"
      ]
     },
     "metadata": {},
     "output_type": "display_data"
    },
    {
     "data": {
      "application/javascript": [
       "\n",
       "(function(root) {\n",
       "  function now() {\n",
       "    return new Date();\n",
       "  }\n",
       "\n",
       "  var force = true;\n",
       "\n",
       "  if (typeof (root._bokeh_onload_callbacks) === \"undefined\" || force === true) {\n",
       "    root._bokeh_onload_callbacks = [];\n",
       "    root._bokeh_is_loading = undefined;\n",
       "  }\n",
       "\n",
       "  var JS_MIME_TYPE = 'application/javascript';\n",
       "  var HTML_MIME_TYPE = 'text/html';\n",
       "  var EXEC_MIME_TYPE = 'application/vnd.bokehjs_exec.v0+json';\n",
       "  var CLASS_NAME = 'output_bokeh rendered_html';\n",
       "\n",
       "  /**\n",
       "   * Render data to the DOM node\n",
       "   */\n",
       "  function render(props, node) {\n",
       "    var script = document.createElement(\"script\");\n",
       "    node.appendChild(script);\n",
       "  }\n",
       "\n",
       "  /**\n",
       "   * Handle when an output is cleared or removed\n",
       "   */\n",
       "  function handleClearOutput(event, handle) {\n",
       "    var cell = handle.cell;\n",
       "\n",
       "    var id = cell.output_area._bokeh_element_id;\n",
       "    var server_id = cell.output_area._bokeh_server_id;\n",
       "    // Clean up Bokeh references\n",
       "    if (id !== undefined) {\n",
       "      Bokeh.index[id].model.document.clear();\n",
       "      delete Bokeh.index[id];\n",
       "    }\n",
       "\n",
       "    if (server_id !== undefined) {\n",
       "      // Clean up Bokeh references\n",
       "      var cmd = \"from bokeh.io.state import curstate; print(curstate().uuid_to_server['\" + server_id + \"'].get_sessions()[0].document.roots[0]._id)\";\n",
       "      cell.notebook.kernel.execute(cmd, {\n",
       "        iopub: {\n",
       "          output: function(msg) {\n",
       "            var element_id = msg.content.text.trim();\n",
       "            Bokeh.index[element_id].model.document.clear();\n",
       "            delete Bokeh.index[element_id];\n",
       "          }\n",
       "        }\n",
       "      });\n",
       "      // Destroy server and session\n",
       "      var cmd = \"import bokeh.io.notebook as ion; ion.destroy_server('\" + server_id + \"')\";\n",
       "      cell.notebook.kernel.execute(cmd);\n",
       "    }\n",
       "  }\n",
       "\n",
       "  /**\n",
       "   * Handle when a new output is added\n",
       "   */\n",
       "  function handleAddOutput(event, handle) {\n",
       "    var output_area = handle.output_area;\n",
       "    var output = handle.output;\n",
       "\n",
       "    // limit handleAddOutput to display_data with EXEC_MIME_TYPE content only\n",
       "    if ((output.output_type != \"display_data\") || (!output.data.hasOwnProperty(EXEC_MIME_TYPE))) {\n",
       "      return\n",
       "    }\n",
       "\n",
       "    var toinsert = output_area.element.find(\".\" + CLASS_NAME.split(' ')[0]);\n",
       "\n",
       "    if (output.metadata[EXEC_MIME_TYPE][\"id\"] !== undefined) {\n",
       "      toinsert[0].firstChild.textContent = output.data[JS_MIME_TYPE];\n",
       "      // store reference to embed id on output_area\n",
       "      output_area._bokeh_element_id = output.metadata[EXEC_MIME_TYPE][\"id\"];\n",
       "    }\n",
       "    if (output.metadata[EXEC_MIME_TYPE][\"server_id\"] !== undefined) {\n",
       "      var bk_div = document.createElement(\"div\");\n",
       "      bk_div.innerHTML = output.data[HTML_MIME_TYPE];\n",
       "      var script_attrs = bk_div.children[0].attributes;\n",
       "      for (var i = 0; i < script_attrs.length; i++) {\n",
       "        toinsert[0].firstChild.setAttribute(script_attrs[i].name, script_attrs[i].value);\n",
       "      }\n",
       "      // store reference to server id on output_area\n",
       "      output_area._bokeh_server_id = output.metadata[EXEC_MIME_TYPE][\"server_id\"];\n",
       "    }\n",
       "  }\n",
       "\n",
       "  function register_renderer(events, OutputArea) {\n",
       "\n",
       "    function append_mime(data, metadata, element) {\n",
       "      // create a DOM node to render to\n",
       "      var toinsert = this.create_output_subarea(\n",
       "        metadata,\n",
       "        CLASS_NAME,\n",
       "        EXEC_MIME_TYPE\n",
       "      );\n",
       "      this.keyboard_manager.register_events(toinsert);\n",
       "      // Render to node\n",
       "      var props = {data: data, metadata: metadata[EXEC_MIME_TYPE]};\n",
       "      render(props, toinsert[0]);\n",
       "      element.append(toinsert);\n",
       "      return toinsert\n",
       "    }\n",
       "\n",
       "    /* Handle when an output is cleared or removed */\n",
       "    events.on('clear_output.CodeCell', handleClearOutput);\n",
       "    events.on('delete.Cell', handleClearOutput);\n",
       "\n",
       "    /* Handle when a new output is added */\n",
       "    events.on('output_added.OutputArea', handleAddOutput);\n",
       "\n",
       "    /**\n",
       "     * Register the mime type and append_mime function with output_area\n",
       "     */\n",
       "    OutputArea.prototype.register_mime_type(EXEC_MIME_TYPE, append_mime, {\n",
       "      /* Is output safe? */\n",
       "      safe: true,\n",
       "      /* Index of renderer in `output_area.display_order` */\n",
       "      index: 0\n",
       "    });\n",
       "  }\n",
       "\n",
       "  // register the mime type if in Jupyter Notebook environment and previously unregistered\n",
       "  if (root.Jupyter !== undefined) {\n",
       "    var events = require('base/js/events');\n",
       "    var OutputArea = require('notebook/js/outputarea').OutputArea;\n",
       "\n",
       "    if (OutputArea.prototype.mime_types().indexOf(EXEC_MIME_TYPE) == -1) {\n",
       "      register_renderer(events, OutputArea);\n",
       "    }\n",
       "  }\n",
       "\n",
       "  \n",
       "  if (typeof (root._bokeh_timeout) === \"undefined\" || force === true) {\n",
       "    root._bokeh_timeout = Date.now() + 5000;\n",
       "    root._bokeh_failed_load = false;\n",
       "  }\n",
       "\n",
       "  var NB_LOAD_WARNING = {'data': {'text/html':\n",
       "     \"<div style='background-color: #fdd'>\\n\"+\n",
       "     \"<p>\\n\"+\n",
       "     \"BokehJS does not appear to have successfully loaded. If loading BokehJS from CDN, this \\n\"+\n",
       "     \"may be due to a slow or bad network connection. Possible fixes:\\n\"+\n",
       "     \"</p>\\n\"+\n",
       "     \"<ul>\\n\"+\n",
       "     \"<li>re-rerun `output_notebook()` to attempt to load from CDN again, or</li>\\n\"+\n",
       "     \"<li>use INLINE resources instead, as so:</li>\\n\"+\n",
       "     \"</ul>\\n\"+\n",
       "     \"<code>\\n\"+\n",
       "     \"from bokeh.resources import INLINE\\n\"+\n",
       "     \"output_notebook(resources=INLINE)\\n\"+\n",
       "     \"</code>\\n\"+\n",
       "     \"</div>\"}};\n",
       "\n",
       "  function display_loaded() {\n",
       "    var el = document.getElementById(\"3048d736-ddf3-4beb-a840-876206ca0954\");\n",
       "    if (el != null) {\n",
       "      el.textContent = \"BokehJS is loading...\";\n",
       "    }\n",
       "    if (root.Bokeh !== undefined) {\n",
       "      if (el != null) {\n",
       "        el.textContent = \"BokehJS \" + root.Bokeh.version + \" successfully loaded.\";\n",
       "      }\n",
       "    } else if (Date.now() < root._bokeh_timeout) {\n",
       "      setTimeout(display_loaded, 100)\n",
       "    }\n",
       "  }\n",
       "\n",
       "\n",
       "  function run_callbacks() {\n",
       "    try {\n",
       "      root._bokeh_onload_callbacks.forEach(function(callback) { callback() });\n",
       "    }\n",
       "    finally {\n",
       "      delete root._bokeh_onload_callbacks\n",
       "    }\n",
       "    console.info(\"Bokeh: all callbacks have finished\");\n",
       "  }\n",
       "\n",
       "  function load_libs(js_urls, callback) {\n",
       "    root._bokeh_onload_callbacks.push(callback);\n",
       "    if (root._bokeh_is_loading > 0) {\n",
       "      console.log(\"Bokeh: BokehJS is being loaded, scheduling callback at\", now());\n",
       "      return null;\n",
       "    }\n",
       "    if (js_urls == null || js_urls.length === 0) {\n",
       "      run_callbacks();\n",
       "      return null;\n",
       "    }\n",
       "    console.log(\"Bokeh: BokehJS not loaded, scheduling load and callback at\", now());\n",
       "    root._bokeh_is_loading = js_urls.length;\n",
       "    for (var i = 0; i < js_urls.length; i++) {\n",
       "      var url = js_urls[i];\n",
       "      var s = document.createElement('script');\n",
       "      s.src = url;\n",
       "      s.async = false;\n",
       "      s.onreadystatechange = s.onload = function() {\n",
       "        root._bokeh_is_loading--;\n",
       "        if (root._bokeh_is_loading === 0) {\n",
       "          console.log(\"Bokeh: all BokehJS libraries loaded\");\n",
       "          run_callbacks()\n",
       "        }\n",
       "      };\n",
       "      s.onerror = function() {\n",
       "        console.warn(\"failed to load library \" + url);\n",
       "      };\n",
       "      console.log(\"Bokeh: injecting script tag for BokehJS library: \", url);\n",
       "      document.getElementsByTagName(\"head\")[0].appendChild(s);\n",
       "    }\n",
       "  };var element = document.getElementById(\"3048d736-ddf3-4beb-a840-876206ca0954\");\n",
       "  if (element == null) {\n",
       "    console.log(\"Bokeh: ERROR: autoload.js configured with elementid '3048d736-ddf3-4beb-a840-876206ca0954' but no matching script tag was found. \")\n",
       "    return false;\n",
       "  }\n",
       "\n",
       "  var js_urls = [\"https://cdn.pydata.org/bokeh/release/bokeh-0.12.14.min.js\", \"https://cdn.pydata.org/bokeh/release/bokeh-widgets-0.12.14.min.js\", \"https://cdn.pydata.org/bokeh/release/bokeh-tables-0.12.14.min.js\", \"https://cdn.pydata.org/bokeh/release/bokeh-gl-0.12.14.min.js\"];\n",
       "\n",
       "  var inline_js = [\n",
       "    function(Bokeh) {\n",
       "      Bokeh.set_log_level(\"info\");\n",
       "    },\n",
       "    \n",
       "    function(Bokeh) {\n",
       "      \n",
       "    },\n",
       "    function(Bokeh) {\n",
       "      console.log(\"Bokeh: injecting CSS: https://cdn.pydata.org/bokeh/release/bokeh-0.12.14.min.css\");\n",
       "      Bokeh.embed.inject_css(\"https://cdn.pydata.org/bokeh/release/bokeh-0.12.14.min.css\");\n",
       "      console.log(\"Bokeh: injecting CSS: https://cdn.pydata.org/bokeh/release/bokeh-widgets-0.12.14.min.css\");\n",
       "      Bokeh.embed.inject_css(\"https://cdn.pydata.org/bokeh/release/bokeh-widgets-0.12.14.min.css\");\n",
       "      console.log(\"Bokeh: injecting CSS: https://cdn.pydata.org/bokeh/release/bokeh-tables-0.12.14.min.css\");\n",
       "      Bokeh.embed.inject_css(\"https://cdn.pydata.org/bokeh/release/bokeh-tables-0.12.14.min.css\");\n",
       "    }\n",
       "  ];\n",
       "\n",
       "  function run_inline_js() {\n",
       "    \n",
       "    if ((root.Bokeh !== undefined) || (force === true)) {\n",
       "      for (var i = 0; i < inline_js.length; i++) {\n",
       "        inline_js[i].call(root, root.Bokeh);\n",
       "      }if (force === true) {\n",
       "        display_loaded();\n",
       "      }} else if (Date.now() < root._bokeh_timeout) {\n",
       "      setTimeout(run_inline_js, 100);\n",
       "    } else if (!root._bokeh_failed_load) {\n",
       "      console.log(\"Bokeh: BokehJS failed to load within specified timeout.\");\n",
       "      root._bokeh_failed_load = true;\n",
       "    } else if (force !== true) {\n",
       "      var cell = $(document.getElementById(\"3048d736-ddf3-4beb-a840-876206ca0954\")).parents('.cell').data().cell;\n",
       "      cell.output_area.append_execute_result(NB_LOAD_WARNING)\n",
       "    }\n",
       "\n",
       "  }\n",
       "\n",
       "  if (root._bokeh_is_loading === 0) {\n",
       "    console.log(\"Bokeh: BokehJS loaded, going straight to plotting\");\n",
       "    run_inline_js();\n",
       "  } else {\n",
       "    load_libs(js_urls, function() {\n",
       "      console.log(\"Bokeh: BokehJS plotting callback run at\", now());\n",
       "      run_inline_js();\n",
       "    });\n",
       "  }\n",
       "}(window));"
      ],
      "application/vnd.bokehjs_load.v0+json": "\n(function(root) {\n  function now() {\n    return new Date();\n  }\n\n  var force = true;\n\n  if (typeof (root._bokeh_onload_callbacks) === \"undefined\" || force === true) {\n    root._bokeh_onload_callbacks = [];\n    root._bokeh_is_loading = undefined;\n  }\n\n  \n\n  \n  if (typeof (root._bokeh_timeout) === \"undefined\" || force === true) {\n    root._bokeh_timeout = Date.now() + 5000;\n    root._bokeh_failed_load = false;\n  }\n\n  var NB_LOAD_WARNING = {'data': {'text/html':\n     \"<div style='background-color: #fdd'>\\n\"+\n     \"<p>\\n\"+\n     \"BokehJS does not appear to have successfully loaded. If loading BokehJS from CDN, this \\n\"+\n     \"may be due to a slow or bad network connection. Possible fixes:\\n\"+\n     \"</p>\\n\"+\n     \"<ul>\\n\"+\n     \"<li>re-rerun `output_notebook()` to attempt to load from CDN again, or</li>\\n\"+\n     \"<li>use INLINE resources instead, as so:</li>\\n\"+\n     \"</ul>\\n\"+\n     \"<code>\\n\"+\n     \"from bokeh.resources import INLINE\\n\"+\n     \"output_notebook(resources=INLINE)\\n\"+\n     \"</code>\\n\"+\n     \"</div>\"}};\n\n  function display_loaded() {\n    var el = document.getElementById(\"3048d736-ddf3-4beb-a840-876206ca0954\");\n    if (el != null) {\n      el.textContent = \"BokehJS is loading...\";\n    }\n    if (root.Bokeh !== undefined) {\n      if (el != null) {\n        el.textContent = \"BokehJS \" + root.Bokeh.version + \" successfully loaded.\";\n      }\n    } else if (Date.now() < root._bokeh_timeout) {\n      setTimeout(display_loaded, 100)\n    }\n  }\n\n\n  function run_callbacks() {\n    try {\n      root._bokeh_onload_callbacks.forEach(function(callback) { callback() });\n    }\n    finally {\n      delete root._bokeh_onload_callbacks\n    }\n    console.info(\"Bokeh: all callbacks have finished\");\n  }\n\n  function load_libs(js_urls, callback) {\n    root._bokeh_onload_callbacks.push(callback);\n    if (root._bokeh_is_loading > 0) {\n      console.log(\"Bokeh: BokehJS is being loaded, scheduling callback at\", now());\n      return null;\n    }\n    if (js_urls == null || js_urls.length === 0) {\n      run_callbacks();\n      return null;\n    }\n    console.log(\"Bokeh: BokehJS not loaded, scheduling load and callback at\", now());\n    root._bokeh_is_loading = js_urls.length;\n    for (var i = 0; i < js_urls.length; i++) {\n      var url = js_urls[i];\n      var s = document.createElement('script');\n      s.src = url;\n      s.async = false;\n      s.onreadystatechange = s.onload = function() {\n        root._bokeh_is_loading--;\n        if (root._bokeh_is_loading === 0) {\n          console.log(\"Bokeh: all BokehJS libraries loaded\");\n          run_callbacks()\n        }\n      };\n      s.onerror = function() {\n        console.warn(\"failed to load library \" + url);\n      };\n      console.log(\"Bokeh: injecting script tag for BokehJS library: \", url);\n      document.getElementsByTagName(\"head\")[0].appendChild(s);\n    }\n  };var element = document.getElementById(\"3048d736-ddf3-4beb-a840-876206ca0954\");\n  if (element == null) {\n    console.log(\"Bokeh: ERROR: autoload.js configured with elementid '3048d736-ddf3-4beb-a840-876206ca0954' but no matching script tag was found. \")\n    return false;\n  }\n\n  var js_urls = [\"https://cdn.pydata.org/bokeh/release/bokeh-0.12.14.min.js\", \"https://cdn.pydata.org/bokeh/release/bokeh-widgets-0.12.14.min.js\", \"https://cdn.pydata.org/bokeh/release/bokeh-tables-0.12.14.min.js\", \"https://cdn.pydata.org/bokeh/release/bokeh-gl-0.12.14.min.js\"];\n\n  var inline_js = [\n    function(Bokeh) {\n      Bokeh.set_log_level(\"info\");\n    },\n    \n    function(Bokeh) {\n      \n    },\n    function(Bokeh) {\n      console.log(\"Bokeh: injecting CSS: https://cdn.pydata.org/bokeh/release/bokeh-0.12.14.min.css\");\n      Bokeh.embed.inject_css(\"https://cdn.pydata.org/bokeh/release/bokeh-0.12.14.min.css\");\n      console.log(\"Bokeh: injecting CSS: https://cdn.pydata.org/bokeh/release/bokeh-widgets-0.12.14.min.css\");\n      Bokeh.embed.inject_css(\"https://cdn.pydata.org/bokeh/release/bokeh-widgets-0.12.14.min.css\");\n      console.log(\"Bokeh: injecting CSS: https://cdn.pydata.org/bokeh/release/bokeh-tables-0.12.14.min.css\");\n      Bokeh.embed.inject_css(\"https://cdn.pydata.org/bokeh/release/bokeh-tables-0.12.14.min.css\");\n    }\n  ];\n\n  function run_inline_js() {\n    \n    if ((root.Bokeh !== undefined) || (force === true)) {\n      for (var i = 0; i < inline_js.length; i++) {\n        inline_js[i].call(root, root.Bokeh);\n      }if (force === true) {\n        display_loaded();\n      }} else if (Date.now() < root._bokeh_timeout) {\n      setTimeout(run_inline_js, 100);\n    } else if (!root._bokeh_failed_load) {\n      console.log(\"Bokeh: BokehJS failed to load within specified timeout.\");\n      root._bokeh_failed_load = true;\n    } else if (force !== true) {\n      var cell = $(document.getElementById(\"3048d736-ddf3-4beb-a840-876206ca0954\")).parents('.cell').data().cell;\n      cell.output_area.append_execute_result(NB_LOAD_WARNING)\n    }\n\n  }\n\n  if (root._bokeh_is_loading === 0) {\n    console.log(\"Bokeh: BokehJS loaded, going straight to plotting\");\n    run_inline_js();\n  } else {\n    load_libs(js_urls, function() {\n      console.log(\"Bokeh: BokehJS plotting callback run at\", now());\n      run_inline_js();\n    });\n  }\n}(window));"
     },
     "metadata": {},
     "output_type": "display_data"
    }
   ],
   "source": [
    "output_notebook()"
   ]
  },
  {
   "cell_type": "markdown",
   "metadata": {},
   "source": [
    "# Some Basic Scatter Plots\n",
    "\n",
    "In this section you will see how to use Bokeh's various marker types to create simple scatter plots. "
   ]
  },
  {
   "cell_type": "code",
   "execution_count": 6,
   "metadata": {},
   "outputs": [
    {
     "data": {
      "text/html": [
       "\n",
       "<div class=\"bk-root\">\n",
       "    <div class=\"bk-plotdiv\" id=\"18bb8859-fc0a-4eb4-accd-f2a2c8b2fb46\"></div>\n",
       "</div>"
      ]
     },
     "metadata": {},
     "output_type": "display_data"
    },
    {
     "data": {
      "application/javascript": [
       "(function(root) {\n",
       "  function embed_document(root) {\n",
       "    \n",
       "  var docs_json = {\"28f23811-9e71-4250-b9e2-48f1f9fbb8c6\":{\"roots\":{\"references\":[{\"attributes\":{\"below\":[{\"id\":\"e446e5ff-efd7-4102-8822-e83c544e456d\",\"type\":\"LinearAxis\"}],\"left\":[{\"id\":\"e204444d-1670-4011-9ec7-fdd7dc2c0641\",\"type\":\"LinearAxis\"}],\"plot_height\":400,\"plot_width\":400,\"renderers\":[{\"id\":\"e446e5ff-efd7-4102-8822-e83c544e456d\",\"type\":\"LinearAxis\"},{\"id\":\"34e9500f-4589-4218-b17a-9207ab7c800d\",\"type\":\"Grid\"},{\"id\":\"e204444d-1670-4011-9ec7-fdd7dc2c0641\",\"type\":\"LinearAxis\"},{\"id\":\"b2f0369c-082a-401c-8a46-deb9c0424749\",\"type\":\"Grid\"},{\"id\":\"996ae43e-ea8b-4541-8bd2-200a4dd9af23\",\"type\":\"BoxAnnotation\"},{\"id\":\"1f9bb5e9-1cfc-4d53-ae3d-737852c52fff\",\"type\":\"GlyphRenderer\"}],\"title\":{\"id\":\"86c81f17-9a8b-4290-8916-336799a8dbc1\",\"type\":\"Title\"},\"toolbar\":{\"id\":\"df065646-7a86-4557-95cf-a8cf57d6d6eb\",\"type\":\"Toolbar\"},\"x_range\":{\"id\":\"05020129-d92b-490e-97f2-f4c0b34e7077\",\"type\":\"DataRange1d\"},\"x_scale\":{\"id\":\"32cecbec-9135-4b1f-89a3-ed6613eb2586\",\"type\":\"LinearScale\"},\"y_range\":{\"id\":\"251127b3-f9c4-4c97-bdd2-3c790b03aed5\",\"type\":\"DataRange1d\"},\"y_scale\":{\"id\":\"2ee7256d-7429-465f-8ab4-75cfe8a7e4e7\",\"type\":\"LinearScale\"}},\"id\":\"09ae5e1b-00eb-40e1-871f-165a4a9ba9c8\",\"subtype\":\"Figure\",\"type\":\"Plot\"},{\"attributes\":{\"callback\":null,\"column_names\":[\"x\",\"y\"],\"data\":{\"x\":[1,2,3,4,5],\"y\":[6,7,2,4,5]}},\"id\":\"8d30b0cc-05f6-4b69-b93d-1f1cbe36fa70\",\"type\":\"ColumnDataSource\"},{\"attributes\":{\"source\":{\"id\":\"8d30b0cc-05f6-4b69-b93d-1f1cbe36fa70\",\"type\":\"ColumnDataSource\"}},\"id\":\"4331c405-ebbf-4ebd-9822-42309739474c\",\"type\":\"CDSView\"},{\"attributes\":{\"plot\":null,\"text\":\"\"},\"id\":\"86c81f17-9a8b-4290-8916-336799a8dbc1\",\"type\":\"Title\"},{\"attributes\":{},\"id\":\"6f70f21e-06cf-46ef-ad0a-d45dfea7b867\",\"type\":\"PanTool\"},{\"attributes\":{\"active_drag\":\"auto\",\"active_inspect\":\"auto\",\"active_scroll\":\"auto\",\"active_tap\":\"auto\",\"tools\":[{\"id\":\"6f70f21e-06cf-46ef-ad0a-d45dfea7b867\",\"type\":\"PanTool\"},{\"id\":\"213ccc39-fda5-4318-af0f-5cda8d1f214f\",\"type\":\"WheelZoomTool\"},{\"id\":\"8c47ba2f-3a89-4df0-b22b-628004ef8e3b\",\"type\":\"BoxZoomTool\"},{\"id\":\"d4bfe376-68b3-473e-b132-502ae3d79b02\",\"type\":\"SaveTool\"},{\"id\":\"71eddbd2-51a4-4ef9-b9da-5ca622a9ae20\",\"type\":\"ResetTool\"},{\"id\":\"0820f9b0-df44-4c64-b9f2-90631dd96ba5\",\"type\":\"HelpTool\"}]},\"id\":\"df065646-7a86-4557-95cf-a8cf57d6d6eb\",\"type\":\"Toolbar\"},{\"attributes\":{\"callback\":null},\"id\":\"05020129-d92b-490e-97f2-f4c0b34e7077\",\"type\":\"DataRange1d\"},{\"attributes\":{},\"id\":\"a3394426-e774-4b15-bca5-a4a6948c452b\",\"type\":\"BasicTickFormatter\"},{\"attributes\":{},\"id\":\"213ccc39-fda5-4318-af0f-5cda8d1f214f\",\"type\":\"WheelZoomTool\"},{\"attributes\":{\"overlay\":{\"id\":\"996ae43e-ea8b-4541-8bd2-200a4dd9af23\",\"type\":\"BoxAnnotation\"}},\"id\":\"8c47ba2f-3a89-4df0-b22b-628004ef8e3b\",\"type\":\"BoxZoomTool\"},{\"attributes\":{\"callback\":null},\"id\":\"251127b3-f9c4-4c97-bdd2-3c790b03aed5\",\"type\":\"DataRange1d\"},{\"attributes\":{},\"id\":\"d4bfe376-68b3-473e-b132-502ae3d79b02\",\"type\":\"SaveTool\"},{\"attributes\":{},\"id\":\"32cecbec-9135-4b1f-89a3-ed6613eb2586\",\"type\":\"LinearScale\"},{\"attributes\":{\"data_source\":{\"id\":\"8d30b0cc-05f6-4b69-b93d-1f1cbe36fa70\",\"type\":\"ColumnDataSource\"},\"glyph\":{\"id\":\"ba981f85-8983-46ce-b581-7695aa023356\",\"type\":\"Circle\"},\"hover_glyph\":null,\"muted_glyph\":null,\"nonselection_glyph\":{\"id\":\"55d8d039-1ce8-4eff-aaf1-398d9a874564\",\"type\":\"Circle\"},\"selection_glyph\":null,\"view\":{\"id\":\"4331c405-ebbf-4ebd-9822-42309739474c\",\"type\":\"CDSView\"}},\"id\":\"1f9bb5e9-1cfc-4d53-ae3d-737852c52fff\",\"type\":\"GlyphRenderer\"},{\"attributes\":{},\"id\":\"71eddbd2-51a4-4ef9-b9da-5ca622a9ae20\",\"type\":\"ResetTool\"},{\"attributes\":{},\"id\":\"2ee7256d-7429-465f-8ab4-75cfe8a7e4e7\",\"type\":\"LinearScale\"},{\"attributes\":{},\"id\":\"0820f9b0-df44-4c64-b9f2-90631dd96ba5\",\"type\":\"HelpTool\"},{\"attributes\":{\"formatter\":{\"id\":\"43705baa-715a-41d5-9e7e-3dbab61956d5\",\"type\":\"BasicTickFormatter\"},\"plot\":{\"id\":\"09ae5e1b-00eb-40e1-871f-165a4a9ba9c8\",\"subtype\":\"Figure\",\"type\":\"Plot\"},\"ticker\":{\"id\":\"60ea35bb-ca83-4a71-860c-6ec24a797274\",\"type\":\"BasicTicker\"}},\"id\":\"e446e5ff-efd7-4102-8822-e83c544e456d\",\"type\":\"LinearAxis\"},{\"attributes\":{},\"id\":\"43705baa-715a-41d5-9e7e-3dbab61956d5\",\"type\":\"BasicTickFormatter\"},{\"attributes\":{},\"id\":\"60ea35bb-ca83-4a71-860c-6ec24a797274\",\"type\":\"BasicTicker\"},{\"attributes\":{\"plot\":{\"id\":\"09ae5e1b-00eb-40e1-871f-165a4a9ba9c8\",\"subtype\":\"Figure\",\"type\":\"Plot\"},\"ticker\":{\"id\":\"60ea35bb-ca83-4a71-860c-6ec24a797274\",\"type\":\"BasicTicker\"}},\"id\":\"34e9500f-4589-4218-b17a-9207ab7c800d\",\"type\":\"Grid\"},{\"attributes\":{\"formatter\":{\"id\":\"a3394426-e774-4b15-bca5-a4a6948c452b\",\"type\":\"BasicTickFormatter\"},\"plot\":{\"id\":\"09ae5e1b-00eb-40e1-871f-165a4a9ba9c8\",\"subtype\":\"Figure\",\"type\":\"Plot\"},\"ticker\":{\"id\":\"d51a7efe-3c5f-4368-9b89-131a9616396a\",\"type\":\"BasicTicker\"}},\"id\":\"e204444d-1670-4011-9ec7-fdd7dc2c0641\",\"type\":\"LinearAxis\"},{\"attributes\":{\"fill_alpha\":{\"value\":0.1},\"fill_color\":{\"value\":\"#1f77b4\"},\"line_alpha\":{\"value\":0.1},\"line_color\":{\"value\":\"#1f77b4\"},\"size\":{\"units\":\"screen\",\"value\":15},\"x\":{\"field\":\"x\"},\"y\":{\"field\":\"y\"}},\"id\":\"55d8d039-1ce8-4eff-aaf1-398d9a874564\",\"type\":\"Circle\"},{\"attributes\":{\"fill_alpha\":{\"value\":0.5},\"fill_color\":{\"value\":\"orange\"},\"line_color\":{\"value\":\"navy\"},\"size\":{\"units\":\"screen\",\"value\":15},\"x\":{\"field\":\"x\"},\"y\":{\"field\":\"y\"}},\"id\":\"ba981f85-8983-46ce-b581-7695aa023356\",\"type\":\"Circle\"},{\"attributes\":{},\"id\":\"d51a7efe-3c5f-4368-9b89-131a9616396a\",\"type\":\"BasicTicker\"},{\"attributes\":{\"dimension\":1,\"plot\":{\"id\":\"09ae5e1b-00eb-40e1-871f-165a4a9ba9c8\",\"subtype\":\"Figure\",\"type\":\"Plot\"},\"ticker\":{\"id\":\"d51a7efe-3c5f-4368-9b89-131a9616396a\",\"type\":\"BasicTicker\"}},\"id\":\"b2f0369c-082a-401c-8a46-deb9c0424749\",\"type\":\"Grid\"},{\"attributes\":{\"bottom_units\":\"screen\",\"fill_alpha\":{\"value\":0.5},\"fill_color\":{\"value\":\"lightgrey\"},\"left_units\":\"screen\",\"level\":\"overlay\",\"line_alpha\":{\"value\":1.0},\"line_color\":{\"value\":\"black\"},\"line_dash\":[4,4],\"line_width\":{\"value\":2},\"plot\":null,\"render_mode\":\"css\",\"right_units\":\"screen\",\"top_units\":\"screen\"},\"id\":\"996ae43e-ea8b-4541-8bd2-200a4dd9af23\",\"type\":\"BoxAnnotation\"}],\"root_ids\":[\"09ae5e1b-00eb-40e1-871f-165a4a9ba9c8\"]},\"title\":\"Bokeh Application\",\"version\":\"0.12.14\"}};\n",
       "  var render_items = [{\"docid\":\"28f23811-9e71-4250-b9e2-48f1f9fbb8c6\",\"elementid\":\"18bb8859-fc0a-4eb4-accd-f2a2c8b2fb46\",\"modelid\":\"09ae5e1b-00eb-40e1-871f-165a4a9ba9c8\"}];\n",
       "  root.Bokeh.embed.embed_items_notebook(docs_json, render_items);\n",
       "\n",
       "  }\n",
       "  if (root.Bokeh !== undefined) {\n",
       "    embed_document(root);\n",
       "  } else {\n",
       "    var attempts = 0;\n",
       "    var timer = setInterval(function(root) {\n",
       "      if (root.Bokeh !== undefined) {\n",
       "        embed_document(root);\n",
       "        clearInterval(timer);\n",
       "      }\n",
       "      attempts++;\n",
       "      if (attempts > 100) {\n",
       "        console.log(\"Bokeh: ERROR: Unable to run BokehJS code because BokehJS library is missing\")\n",
       "        clearInterval(timer);\n",
       "      }\n",
       "    }, 10, root)\n",
       "  }\n",
       "})(window);"
      ],
      "application/vnd.bokehjs_exec.v0+json": ""
     },
     "metadata": {
      "application/vnd.bokehjs_exec.v0+json": {
       "id": "09ae5e1b-00eb-40e1-871f-165a4a9ba9c8"
      }
     },
     "output_type": "display_data"
    }
   ],
   "source": [
    "# create a new plot with default tools, using figure\n",
    "p = figure(plot_width=400, plot_height=400)\n",
    "\n",
    "# add a circle renderer with a size, color, and alpha\n",
    "p.circle([1, 2, 3, 4, 5], [6, 7, 2, 4, 5], size=15, line_color=\"navy\", fill_color=\"orange\", fill_alpha=0.5)\n",
    "\n",
    "show(p) # show the results"
   ]
  },
  {
   "cell_type": "markdown",
   "metadata": {},
   "source": [
    "All Bokeh markers accept `size` (measured in screen space units) as a property. Circles also have `radius` (measured in \"data\" space units). "
   ]
  },
  {
   "cell_type": "markdown",
   "metadata": {},
   "source": [
    "To scatter square markers instead of circles, you can use the `square` method on figures. "
   ]
  },
  {
   "cell_type": "code",
   "execution_count": 10,
   "metadata": {},
   "outputs": [
    {
     "data": {
      "text/html": [
       "\n",
       "<div class=\"bk-root\">\n",
       "    <div class=\"bk-plotdiv\" id=\"bc60f70e-8f96-4131-9223-6fb383a59126\"></div>\n",
       "</div>"
      ]
     },
     "metadata": {},
     "output_type": "display_data"
    },
    {
     "data": {
      "application/javascript": [
       "(function(root) {\n",
       "  function embed_document(root) {\n",
       "    \n",
       "  var docs_json = {\"cacfd3da-22c4-4f10-96c6-5f71c44a0362\":{\"roots\":{\"references\":[{\"attributes\":{\"plot\":null,\"text\":\"\"},\"id\":\"b0f8fe26-dfe8-4beb-94c9-1b75140aa5ce\",\"type\":\"Title\"},{\"attributes\":{\"active_drag\":\"auto\",\"active_inspect\":\"auto\",\"active_scroll\":\"auto\",\"active_tap\":\"auto\",\"tools\":[{\"id\":\"3df61eb4-b211-4399-9270-51ccedddbfe5\",\"type\":\"PanTool\"},{\"id\":\"a6da6d41-a601-49d1-9ee1-9df35ed336c6\",\"type\":\"WheelZoomTool\"},{\"id\":\"057e30d3-78ad-4fe8-9068-0a45f8f00dd6\",\"type\":\"BoxZoomTool\"},{\"id\":\"af8e1f64-ec64-4059-ad22-770280d62457\",\"type\":\"SaveTool\"},{\"id\":\"2bc95d25-e241-477c-b9de-ce91eb4e30ba\",\"type\":\"ResetTool\"},{\"id\":\"6c49e379-93d1-4952-b44a-45aa7fd82857\",\"type\":\"HelpTool\"}]},\"id\":\"5bd8f0b2-dcac-4f27-bed1-c5288340fd32\",\"type\":\"Toolbar\"},{\"attributes\":{\"data_source\":{\"id\":\"727f82f2-2f59-47cc-b263-b97cbcc362b5\",\"type\":\"ColumnDataSource\"},\"glyph\":{\"id\":\"c6370ec4-88dc-4f3f-9afd-076d38408119\",\"type\":\"Circle\"},\"hover_glyph\":null,\"muted_glyph\":null,\"nonselection_glyph\":{\"id\":\"774edf78-e11d-4060-8848-3ea3d7915820\",\"type\":\"Circle\"},\"selection_glyph\":null,\"view\":{\"id\":\"8e922162-34e3-4e0a-a6bf-2fff7367e5c7\",\"type\":\"CDSView\"}},\"id\":\"b279f0e1-fda7-4824-80a3-f5a9d74962f5\",\"type\":\"GlyphRenderer\"},{\"attributes\":{},\"id\":\"77eba7df-9f75-4e14-9bd7-cae01613ab69\",\"type\":\"LinearScale\"},{\"attributes\":{\"callback\":null},\"id\":\"7bb1f987-2fdf-4bb6-a4a9-9f3781b9dfce\",\"type\":\"DataRange1d\"},{\"attributes\":{\"below\":[{\"id\":\"5f0587f0-ead3-4542-b613-7bb85e237598\",\"type\":\"LinearAxis\"}],\"left\":[{\"id\":\"727d9d1c-2811-4001-a138-9192a71c753f\",\"type\":\"LinearAxis\"}],\"plot_height\":400,\"plot_width\":400,\"renderers\":[{\"id\":\"5f0587f0-ead3-4542-b613-7bb85e237598\",\"type\":\"LinearAxis\"},{\"id\":\"8f605a1b-2094-4ae0-b12f-e7b681e71a29\",\"type\":\"Grid\"},{\"id\":\"727d9d1c-2811-4001-a138-9192a71c753f\",\"type\":\"LinearAxis\"},{\"id\":\"ecd83099-8a15-464d-9221-6b4344522ba2\",\"type\":\"Grid\"},{\"id\":\"a1e061ef-437d-4d9e-a4d7-bef8b5e66413\",\"type\":\"BoxAnnotation\"},{\"id\":\"b279f0e1-fda7-4824-80a3-f5a9d74962f5\",\"type\":\"GlyphRenderer\"}],\"title\":{\"id\":\"b0f8fe26-dfe8-4beb-94c9-1b75140aa5ce\",\"type\":\"Title\"},\"toolbar\":{\"id\":\"5bd8f0b2-dcac-4f27-bed1-c5288340fd32\",\"type\":\"Toolbar\"},\"x_range\":{\"id\":\"5b2a8a9f-6a6f-4761-b4fe-40532f2f6ec8\",\"type\":\"DataRange1d\"},\"x_scale\":{\"id\":\"77eba7df-9f75-4e14-9bd7-cae01613ab69\",\"type\":\"LinearScale\"},\"y_range\":{\"id\":\"7bb1f987-2fdf-4bb6-a4a9-9f3781b9dfce\",\"type\":\"DataRange1d\"},\"y_scale\":{\"id\":\"a0d2cca1-3507-4820-af17-cbd6972fc74d\",\"type\":\"LinearScale\"}},\"id\":\"3be4ef85-0a51-42eb-898e-3aeaa5b795a6\",\"subtype\":\"Figure\",\"type\":\"Plot\"},{\"attributes\":{},\"id\":\"2bc95d25-e241-477c-b9de-ce91eb4e30ba\",\"type\":\"ResetTool\"},{\"attributes\":{},\"id\":\"d7416c1e-c52d-43a1-b888-c11ad3351fa8\",\"type\":\"BasicTickFormatter\"},{\"attributes\":{},\"id\":\"af8e1f64-ec64-4059-ad22-770280d62457\",\"type\":\"SaveTool\"},{\"attributes\":{},\"id\":\"a0d2cca1-3507-4820-af17-cbd6972fc74d\",\"type\":\"LinearScale\"},{\"attributes\":{},\"id\":\"3df61eb4-b211-4399-9270-51ccedddbfe5\",\"type\":\"PanTool\"},{\"attributes\":{\"source\":{\"id\":\"727f82f2-2f59-47cc-b263-b97cbcc362b5\",\"type\":\"ColumnDataSource\"}},\"id\":\"8e922162-34e3-4e0a-a6bf-2fff7367e5c7\",\"type\":\"CDSView\"},{\"attributes\":{\"callback\":null},\"id\":\"5b2a8a9f-6a6f-4761-b4fe-40532f2f6ec8\",\"type\":\"DataRange1d\"},{\"attributes\":{\"fill_alpha\":{\"value\":0.1},\"fill_color\":{\"value\":\"#1f77b4\"},\"line_alpha\":{\"value\":0.1},\"line_color\":{\"value\":\"#1f77b4\"},\"radius\":{\"units\":\"data\",\"value\":0.5},\"size\":{\"units\":\"screen\",\"value\":15},\"x\":{\"field\":\"x\"},\"y\":{\"field\":\"y\"}},\"id\":\"774edf78-e11d-4060-8848-3ea3d7915820\",\"type\":\"Circle\"},{\"attributes\":{\"formatter\":{\"id\":\"b2598645-5d8f-44a2-84d6-255f60f785b0\",\"type\":\"BasicTickFormatter\"},\"plot\":{\"id\":\"3be4ef85-0a51-42eb-898e-3aeaa5b795a6\",\"subtype\":\"Figure\",\"type\":\"Plot\"},\"ticker\":{\"id\":\"47da9150-f9b4-4287-856b-a781f2e24cdd\",\"type\":\"BasicTicker\"}},\"id\":\"5f0587f0-ead3-4542-b613-7bb85e237598\",\"type\":\"LinearAxis\"},{\"attributes\":{},\"id\":\"47da9150-f9b4-4287-856b-a781f2e24cdd\",\"type\":\"BasicTicker\"},{\"attributes\":{},\"id\":\"a6da6d41-a601-49d1-9ee1-9df35ed336c6\",\"type\":\"WheelZoomTool\"},{\"attributes\":{},\"id\":\"b2598645-5d8f-44a2-84d6-255f60f785b0\",\"type\":\"BasicTickFormatter\"},{\"attributes\":{\"overlay\":{\"id\":\"a1e061ef-437d-4d9e-a4d7-bef8b5e66413\",\"type\":\"BoxAnnotation\"}},\"id\":\"057e30d3-78ad-4fe8-9068-0a45f8f00dd6\",\"type\":\"BoxZoomTool\"},{\"attributes\":{\"callback\":null,\"column_names\":[\"x\",\"y\"],\"data\":{\"x\":[1,2,3,4,5],\"y\":[6,7,2,4,5]}},\"id\":\"727f82f2-2f59-47cc-b263-b97cbcc362b5\",\"type\":\"ColumnDataSource\"},{\"attributes\":{\"plot\":{\"id\":\"3be4ef85-0a51-42eb-898e-3aeaa5b795a6\",\"subtype\":\"Figure\",\"type\":\"Plot\"},\"ticker\":{\"id\":\"47da9150-f9b4-4287-856b-a781f2e24cdd\",\"type\":\"BasicTicker\"}},\"id\":\"8f605a1b-2094-4ae0-b12f-e7b681e71a29\",\"type\":\"Grid\"},{\"attributes\":{},\"id\":\"6c49e379-93d1-4952-b44a-45aa7fd82857\",\"type\":\"HelpTool\"},{\"attributes\":{\"formatter\":{\"id\":\"d7416c1e-c52d-43a1-b888-c11ad3351fa8\",\"type\":\"BasicTickFormatter\"},\"plot\":{\"id\":\"3be4ef85-0a51-42eb-898e-3aeaa5b795a6\",\"subtype\":\"Figure\",\"type\":\"Plot\"},\"ticker\":{\"id\":\"21edbaa6-a930-48b9-99b3-6598a44ab8b7\",\"type\":\"BasicTicker\"}},\"id\":\"727d9d1c-2811-4001-a138-9192a71c753f\",\"type\":\"LinearAxis\"},{\"attributes\":{\"bottom_units\":\"screen\",\"fill_alpha\":{\"value\":0.5},\"fill_color\":{\"value\":\"lightgrey\"},\"left_units\":\"screen\",\"level\":\"overlay\",\"line_alpha\":{\"value\":1.0},\"line_color\":{\"value\":\"black\"},\"line_dash\":[4,4],\"line_width\":{\"value\":2},\"plot\":null,\"render_mode\":\"css\",\"right_units\":\"screen\",\"top_units\":\"screen\"},\"id\":\"a1e061ef-437d-4d9e-a4d7-bef8b5e66413\",\"type\":\"BoxAnnotation\"},{\"attributes\":{\"fill_alpha\":{\"value\":0.5},\"fill_color\":{\"value\":\"orange\"},\"line_color\":{\"value\":\"navy\"},\"radius\":{\"units\":\"data\",\"value\":0.5},\"size\":{\"units\":\"screen\",\"value\":15},\"x\":{\"field\":\"x\"},\"y\":{\"field\":\"y\"}},\"id\":\"c6370ec4-88dc-4f3f-9afd-076d38408119\",\"type\":\"Circle\"},{\"attributes\":{},\"id\":\"21edbaa6-a930-48b9-99b3-6598a44ab8b7\",\"type\":\"BasicTicker\"},{\"attributes\":{\"dimension\":1,\"plot\":{\"id\":\"3be4ef85-0a51-42eb-898e-3aeaa5b795a6\",\"subtype\":\"Figure\",\"type\":\"Plot\"},\"ticker\":{\"id\":\"21edbaa6-a930-48b9-99b3-6598a44ab8b7\",\"type\":\"BasicTicker\"}},\"id\":\"ecd83099-8a15-464d-9221-6b4344522ba2\",\"type\":\"Grid\"}],\"root_ids\":[\"3be4ef85-0a51-42eb-898e-3aeaa5b795a6\"]},\"title\":\"Bokeh Application\",\"version\":\"0.12.14\"}};\n",
       "  var render_items = [{\"docid\":\"cacfd3da-22c4-4f10-96c6-5f71c44a0362\",\"elementid\":\"bc60f70e-8f96-4131-9223-6fb383a59126\",\"modelid\":\"3be4ef85-0a51-42eb-898e-3aeaa5b795a6\"}];\n",
       "  root.Bokeh.embed.embed_items_notebook(docs_json, render_items);\n",
       "\n",
       "  }\n",
       "  if (root.Bokeh !== undefined) {\n",
       "    embed_document(root);\n",
       "  } else {\n",
       "    var attempts = 0;\n",
       "    var timer = setInterval(function(root) {\n",
       "      if (root.Bokeh !== undefined) {\n",
       "        embed_document(root);\n",
       "        clearInterval(timer);\n",
       "      }\n",
       "      attempts++;\n",
       "      if (attempts > 100) {\n",
       "        console.log(\"Bokeh: ERROR: Unable to run BokehJS code because BokehJS library is missing\")\n",
       "        clearInterval(timer);\n",
       "      }\n",
       "    }, 10, root)\n",
       "  }\n",
       "})(window);"
      ],
      "application/vnd.bokehjs_exec.v0+json": ""
     },
     "metadata": {
      "application/vnd.bokehjs_exec.v0+json": {
       "id": "3be4ef85-0a51-42eb-898e-3aeaa5b795a6"
      }
     },
     "output_type": "display_data"
    },
    {
     "data": {
      "text/html": [
       "\n",
       "<div class=\"bk-root\">\n",
       "    <div class=\"bk-plotdiv\" id=\"fa8175dc-8aef-45d9-a0fd-e0cff24ec6ca\"></div>\n",
       "</div>"
      ]
     },
     "metadata": {},
     "output_type": "display_data"
    },
    {
     "data": {
      "application/javascript": [
       "(function(root) {\n",
       "  function embed_document(root) {\n",
       "    \n",
       "  var docs_json = {\"da382287-ca60-4e32-a7cf-22d54a28cba6\":{\"roots\":{\"references\":[{\"attributes\":{},\"id\":\"bef7727b-8335-4cca-9e3f-7d224640cc59\",\"type\":\"HelpTool\"},{\"attributes\":{\"data_source\":{\"id\":\"0ee9ffb9-7adc-400f-9447-87dc12cf5d3a\",\"type\":\"ColumnDataSource\"},\"glyph\":{\"id\":\"5a69f256-1f95-4007-9758-7f4f65d4c66c\",\"type\":\"Circle\"},\"hover_glyph\":null,\"muted_glyph\":null,\"nonselection_glyph\":{\"id\":\"69165b1e-2cf3-453e-ac9e-f80148b6d894\",\"type\":\"Circle\"},\"selection_glyph\":null,\"view\":{\"id\":\"a6bcbb60-1004-46d2-b7cf-87782492f0d3\",\"type\":\"CDSView\"}},\"id\":\"3a0b0f5b-b440-40c0-8f29-3b3c0dc7f793\",\"type\":\"GlyphRenderer\"},{\"attributes\":{\"plot\":null,\"text\":\"\"},\"id\":\"9cacab3d-c751-49d8-b7d6-31dbc20a135d\",\"type\":\"Title\"},{\"attributes\":{\"plot\":{\"id\":\"20dc77a5-e3e3-43f1-a612-0f135e490dca\",\"subtype\":\"Figure\",\"type\":\"Plot\"},\"ticker\":{\"id\":\"f74b857b-0d4a-4746-83b1-bb2a058d89e1\",\"type\":\"BasicTicker\"}},\"id\":\"67533d8e-6450-47cc-857d-ef3425d1b9d6\",\"type\":\"Grid\"},{\"attributes\":{\"formatter\":{\"id\":\"2a39f3fd-4320-41b7-8f33-926e1e0de693\",\"type\":\"BasicTickFormatter\"},\"plot\":{\"id\":\"20dc77a5-e3e3-43f1-a612-0f135e490dca\",\"subtype\":\"Figure\",\"type\":\"Plot\"},\"ticker\":{\"id\":\"f74b857b-0d4a-4746-83b1-bb2a058d89e1\",\"type\":\"BasicTicker\"}},\"id\":\"6d407e61-d655-4573-a960-cbe9970a6633\",\"type\":\"LinearAxis\"},{\"attributes\":{},\"id\":\"f74b857b-0d4a-4746-83b1-bb2a058d89e1\",\"type\":\"BasicTicker\"},{\"attributes\":{},\"id\":\"412782ae-208a-4f6d-8261-e1228ef5e12d\",\"type\":\"LinearScale\"},{\"attributes\":{\"formatter\":{\"id\":\"13fb778b-ede9-4dff-b0f0-940c89093e09\",\"type\":\"BasicTickFormatter\"},\"plot\":{\"id\":\"20dc77a5-e3e3-43f1-a612-0f135e490dca\",\"subtype\":\"Figure\",\"type\":\"Plot\"},\"ticker\":{\"id\":\"d910c492-c9bb-4af3-8748-5eb0f98bfeb9\",\"type\":\"BasicTicker\"}},\"id\":\"dd3f7e8a-f6b2-4c43-9500-e67fa013a7fc\",\"type\":\"LinearAxis\"},{\"attributes\":{},\"id\":\"d910c492-c9bb-4af3-8748-5eb0f98bfeb9\",\"type\":\"BasicTicker\"},{\"attributes\":{\"active_drag\":\"auto\",\"active_inspect\":\"auto\",\"active_scroll\":\"auto\",\"active_tap\":\"auto\",\"tools\":[{\"id\":\"c31ccfaf-5792-4c46-ae4e-923cf4c79d84\",\"type\":\"PanTool\"},{\"id\":\"dd26ae6b-94cb-4cab-84be-1c4ab4f4fc51\",\"type\":\"WheelZoomTool\"},{\"id\":\"9941836c-3d1a-4069-8c7c-a9518cdbcf11\",\"type\":\"BoxZoomTool\"},{\"id\":\"1318726c-a374-4934-87d4-3daa307c9967\",\"type\":\"SaveTool\"},{\"id\":\"d5a8f4fc-7967-41a8-8cd5-25c8ea5861e6\",\"type\":\"ResetTool\"},{\"id\":\"bef7727b-8335-4cca-9e3f-7d224640cc59\",\"type\":\"HelpTool\"}]},\"id\":\"3469e59c-c9d6-4c05-bc92-ed291426d4fc\",\"type\":\"Toolbar\"},{\"attributes\":{\"dimension\":1,\"plot\":{\"id\":\"20dc77a5-e3e3-43f1-a612-0f135e490dca\",\"subtype\":\"Figure\",\"type\":\"Plot\"},\"ticker\":{\"id\":\"d910c492-c9bb-4af3-8748-5eb0f98bfeb9\",\"type\":\"BasicTicker\"}},\"id\":\"772c5410-e5d7-4ce3-9315-3012f9125629\",\"type\":\"Grid\"},{\"attributes\":{\"source\":{\"id\":\"0ee9ffb9-7adc-400f-9447-87dc12cf5d3a\",\"type\":\"ColumnDataSource\"}},\"id\":\"a6bcbb60-1004-46d2-b7cf-87782492f0d3\",\"type\":\"CDSView\"},{\"attributes\":{\"fill_alpha\":{\"value\":0.1},\"fill_color\":{\"value\":\"#1f77b4\"},\"line_alpha\":{\"value\":0.1},\"line_color\":{\"value\":\"#1f77b4\"},\"size\":{\"units\":\"screen\",\"value\":15},\"x\":{\"field\":\"x\"},\"y\":{\"field\":\"y\"}},\"id\":\"69165b1e-2cf3-453e-ac9e-f80148b6d894\",\"type\":\"Circle\"},{\"attributes\":{},\"id\":\"c5859488-56f7-4064-94eb-fb94420a17e3\",\"type\":\"LinearScale\"},{\"attributes\":{},\"id\":\"13fb778b-ede9-4dff-b0f0-940c89093e09\",\"type\":\"BasicTickFormatter\"},{\"attributes\":{\"bottom_units\":\"screen\",\"fill_alpha\":{\"value\":0.5},\"fill_color\":{\"value\":\"lightgrey\"},\"left_units\":\"screen\",\"level\":\"overlay\",\"line_alpha\":{\"value\":1.0},\"line_color\":{\"value\":\"black\"},\"line_dash\":[4,4],\"line_width\":{\"value\":2},\"plot\":null,\"render_mode\":\"css\",\"right_units\":\"screen\",\"top_units\":\"screen\"},\"id\":\"b708a17b-6347-4feb-9ca2-bcf990c17f6e\",\"type\":\"BoxAnnotation\"},{\"attributes\":{\"callback\":null},\"id\":\"728c5712-47b9-4e91-bffd-e127aecabc24\",\"type\":\"DataRange1d\"},{\"attributes\":{},\"id\":\"c31ccfaf-5792-4c46-ae4e-923cf4c79d84\",\"type\":\"PanTool\"},{\"attributes\":{},\"id\":\"2a39f3fd-4320-41b7-8f33-926e1e0de693\",\"type\":\"BasicTickFormatter\"},{\"attributes\":{\"below\":[{\"id\":\"6d407e61-d655-4573-a960-cbe9970a6633\",\"type\":\"LinearAxis\"}],\"left\":[{\"id\":\"dd3f7e8a-f6b2-4c43-9500-e67fa013a7fc\",\"type\":\"LinearAxis\"}],\"plot_height\":400,\"plot_width\":400,\"renderers\":[{\"id\":\"6d407e61-d655-4573-a960-cbe9970a6633\",\"type\":\"LinearAxis\"},{\"id\":\"67533d8e-6450-47cc-857d-ef3425d1b9d6\",\"type\":\"Grid\"},{\"id\":\"dd3f7e8a-f6b2-4c43-9500-e67fa013a7fc\",\"type\":\"LinearAxis\"},{\"id\":\"772c5410-e5d7-4ce3-9315-3012f9125629\",\"type\":\"Grid\"},{\"id\":\"b708a17b-6347-4feb-9ca2-bcf990c17f6e\",\"type\":\"BoxAnnotation\"},{\"id\":\"3a0b0f5b-b440-40c0-8f29-3b3c0dc7f793\",\"type\":\"GlyphRenderer\"}],\"title\":{\"id\":\"9cacab3d-c751-49d8-b7d6-31dbc20a135d\",\"type\":\"Title\"},\"toolbar\":{\"id\":\"3469e59c-c9d6-4c05-bc92-ed291426d4fc\",\"type\":\"Toolbar\"},\"x_range\":{\"id\":\"7591cb12-7101-453e-b529-e376229d1607\",\"type\":\"DataRange1d\"},\"x_scale\":{\"id\":\"412782ae-208a-4f6d-8261-e1228ef5e12d\",\"type\":\"LinearScale\"},\"y_range\":{\"id\":\"728c5712-47b9-4e91-bffd-e127aecabc24\",\"type\":\"DataRange1d\"},\"y_scale\":{\"id\":\"c5859488-56f7-4064-94eb-fb94420a17e3\",\"type\":\"LinearScale\"}},\"id\":\"20dc77a5-e3e3-43f1-a612-0f135e490dca\",\"subtype\":\"Figure\",\"type\":\"Plot\"},{\"attributes\":{},\"id\":\"dd26ae6b-94cb-4cab-84be-1c4ab4f4fc51\",\"type\":\"WheelZoomTool\"},{\"attributes\":{\"overlay\":{\"id\":\"b708a17b-6347-4feb-9ca2-bcf990c17f6e\",\"type\":\"BoxAnnotation\"}},\"id\":\"9941836c-3d1a-4069-8c7c-a9518cdbcf11\",\"type\":\"BoxZoomTool\"},{\"attributes\":{\"callback\":null,\"column_names\":[\"x\",\"y\"],\"data\":{\"x\":[1,2,3,4,5],\"y\":[6,7,2,4,5]}},\"id\":\"0ee9ffb9-7adc-400f-9447-87dc12cf5d3a\",\"type\":\"ColumnDataSource\"},{\"attributes\":{},\"id\":\"1318726c-a374-4934-87d4-3daa307c9967\",\"type\":\"SaveTool\"},{\"attributes\":{},\"id\":\"d5a8f4fc-7967-41a8-8cd5-25c8ea5861e6\",\"type\":\"ResetTool\"},{\"attributes\":{\"fill_alpha\":{\"value\":0.5},\"fill_color\":{\"value\":\"orange\"},\"line_color\":{\"value\":\"navy\"},\"size\":{\"units\":\"screen\",\"value\":15},\"x\":{\"field\":\"x\"},\"y\":{\"field\":\"y\"}},\"id\":\"5a69f256-1f95-4007-9758-7f4f65d4c66c\",\"type\":\"Circle\"},{\"attributes\":{\"callback\":null},\"id\":\"7591cb12-7101-453e-b529-e376229d1607\",\"type\":\"DataRange1d\"}],\"root_ids\":[\"20dc77a5-e3e3-43f1-a612-0f135e490dca\"]},\"title\":\"Bokeh Application\",\"version\":\"0.12.14\"}};\n",
       "  var render_items = [{\"docid\":\"da382287-ca60-4e32-a7cf-22d54a28cba6\",\"elementid\":\"fa8175dc-8aef-45d9-a0fd-e0cff24ec6ca\",\"modelid\":\"20dc77a5-e3e3-43f1-a612-0f135e490dca\"}];\n",
       "  root.Bokeh.embed.embed_items_notebook(docs_json, render_items);\n",
       "\n",
       "  }\n",
       "  if (root.Bokeh !== undefined) {\n",
       "    embed_document(root);\n",
       "  } else {\n",
       "    var attempts = 0;\n",
       "    var timer = setInterval(function(root) {\n",
       "      if (root.Bokeh !== undefined) {\n",
       "        embed_document(root);\n",
       "        clearInterval(timer);\n",
       "      }\n",
       "      attempts++;\n",
       "      if (attempts > 100) {\n",
       "        console.log(\"Bokeh: ERROR: Unable to run BokehJS code because BokehJS library is missing\")\n",
       "        clearInterval(timer);\n",
       "      }\n",
       "    }, 10, root)\n",
       "  }\n",
       "})(window);"
      ],
      "application/vnd.bokehjs_exec.v0+json": ""
     },
     "metadata": {
      "application/vnd.bokehjs_exec.v0+json": {
       "id": "20dc77a5-e3e3-43f1-a612-0f135e490dca"
      }
     },
     "output_type": "display_data"
    }
   ],
   "source": [
    "# EXERCISE: Try changing the example above to set a `radius` value instead of `size`\n",
    "\n",
    "# create a new plot with default tools, using figure\n",
    "p = figure(plot_width=400, plot_height=400)\n",
    "\n",
    "# add a circle renderer with a size, color, and alpha\n",
    "p.circle([1, 2, 3, 4, 5], [6, 7, 2, 4, 5], size=15,radius=.5, line_color=\"navy\", fill_color=\"orange\", fill_alpha=0.5)\n",
    "\n",
    "show(p) # show the results# create a new plot with default tools, using figure\n",
    "p = figure(plot_width=400, plot_height=400)\n",
    "\n",
    "# add a circle renderer with a size, color, and alpha\n",
    "p.circle([1, 2, 3, 4, 5], [6, 7, 2, 4, 5], size=15, line_color=\"navy\", fill_color=\"orange\", fill_alpha=0.5)\n",
    "\n",
    "show(p) # show the results"
   ]
  },
  {
   "cell_type": "code",
   "execution_count": 11,
   "metadata": {},
   "outputs": [
    {
     "data": {
      "text/html": [
       "\n",
       "<div class=\"bk-root\">\n",
       "    <div class=\"bk-plotdiv\" id=\"912b6391-59be-433b-a1f7-3317ac7a3186\"></div>\n",
       "</div>"
      ]
     },
     "metadata": {},
     "output_type": "display_data"
    },
    {
     "data": {
      "application/javascript": [
       "(function(root) {\n",
       "  function embed_document(root) {\n",
       "    \n",
       "  var docs_json = {\"c6906fb1-2145-4745-9a2d-3f8b55bc28da\":{\"roots\":{\"references\":[{\"attributes\":{\"callback\":null,\"column_names\":[\"x\",\"y\",\"size\"],\"data\":{\"size\":[10,15,20,25,30],\"x\":[1,2,3,4,5],\"y\":[6,7,2,4,5]}},\"id\":\"afc36f6f-99cb-4ad2-9e30-f7ba20d2d83d\",\"type\":\"ColumnDataSource\"},{\"attributes\":{},\"id\":\"6f6d44c2-39f1-4bd9-9a27-36734e05f378\",\"type\":\"LinearScale\"},{\"attributes\":{},\"id\":\"5e5d010e-94a2-4072-849d-e1ff2355a79d\",\"type\":\"BasicTickFormatter\"},{\"attributes\":{\"fill_alpha\":{\"value\":0.1},\"fill_color\":{\"value\":\"#1f77b4\"},\"line_alpha\":{\"value\":0.1},\"line_color\":{\"value\":\"#1f77b4\"},\"size\":{\"field\":\"size\",\"units\":\"screen\"},\"x\":{\"field\":\"x\"},\"y\":{\"field\":\"y\"}},\"id\":\"3e445b13-0ec8-47e7-8907-0bc831f6c5d0\",\"type\":\"Square\"},{\"attributes\":{\"formatter\":{\"id\":\"6c93fa53-c3ac-47ff-a505-7fe62dab8572\",\"type\":\"BasicTickFormatter\"},\"plot\":{\"id\":\"6ea627cf-ef61-4ba0-ba1c-06b98fb0c96d\",\"subtype\":\"Figure\",\"type\":\"Plot\"},\"ticker\":{\"id\":\"bc103d67-f032-4bc2-8c3a-f113bcdaf464\",\"type\":\"BasicTicker\"}},\"id\":\"7c579d81-7a17-4d3f-a81e-21b0a552235d\",\"type\":\"LinearAxis\"},{\"attributes\":{\"data_source\":{\"id\":\"afc36f6f-99cb-4ad2-9e30-f7ba20d2d83d\",\"type\":\"ColumnDataSource\"},\"glyph\":{\"id\":\"1542cb55-52cc-4fc2-8a9f-8643e2969cef\",\"type\":\"Square\"},\"hover_glyph\":null,\"muted_glyph\":null,\"nonselection_glyph\":{\"id\":\"3e445b13-0ec8-47e7-8907-0bc831f6c5d0\",\"type\":\"Square\"},\"selection_glyph\":null,\"view\":{\"id\":\"ac167f66-2e22-4a7f-a5a3-806d574e1e44\",\"type\":\"CDSView\"}},\"id\":\"3475ee0a-b8c9-4357-b2ce-bd4b327f4e95\",\"type\":\"GlyphRenderer\"},{\"attributes\":{},\"id\":\"e2b94d36-4d11-49a3-965c-e00f1644cb4c\",\"type\":\"LinearScale\"},{\"attributes\":{},\"id\":\"834c44b6-64c6-4260-9fe2-f6ea4863d170\",\"type\":\"ResetTool\"},{\"attributes\":{\"formatter\":{\"id\":\"5e5d010e-94a2-4072-849d-e1ff2355a79d\",\"type\":\"BasicTickFormatter\"},\"plot\":{\"id\":\"6ea627cf-ef61-4ba0-ba1c-06b98fb0c96d\",\"subtype\":\"Figure\",\"type\":\"Plot\"},\"ticker\":{\"id\":\"8e5ab742-7f52-443b-b48c-e4b13af7ba29\",\"type\":\"BasicTicker\"}},\"id\":\"5e3a7b5f-5d66-4a2c-a55d-7dba3c204647\",\"type\":\"LinearAxis\"},{\"attributes\":{},\"id\":\"0b9bf80f-da48-480d-af8d-4fdd6399eec6\",\"type\":\"PanTool\"},{\"attributes\":{\"active_drag\":\"auto\",\"active_inspect\":\"auto\",\"active_scroll\":\"auto\",\"active_tap\":\"auto\",\"tools\":[{\"id\":\"0b9bf80f-da48-480d-af8d-4fdd6399eec6\",\"type\":\"PanTool\"},{\"id\":\"bbd88cf8-0544-46ed-9ca1-95228d6a2b4a\",\"type\":\"WheelZoomTool\"},{\"id\":\"4e4a81c5-7305-4605-956a-ebb57b957981\",\"type\":\"BoxZoomTool\"},{\"id\":\"16d78e0b-be39-4032-87e4-897526f3c6f3\",\"type\":\"SaveTool\"},{\"id\":\"834c44b6-64c6-4260-9fe2-f6ea4863d170\",\"type\":\"ResetTool\"},{\"id\":\"135fe420-2452-4d52-854f-a9a7fd006ff4\",\"type\":\"HelpTool\"}]},\"id\":\"188e8267-27b4-4665-97ed-ed9b9ed89331\",\"type\":\"Toolbar\"},{\"attributes\":{\"bottom_units\":\"screen\",\"fill_alpha\":{\"value\":0.5},\"fill_color\":{\"value\":\"lightgrey\"},\"left_units\":\"screen\",\"level\":\"overlay\",\"line_alpha\":{\"value\":1.0},\"line_color\":{\"value\":\"black\"},\"line_dash\":[4,4],\"line_width\":{\"value\":2},\"plot\":null,\"render_mode\":\"css\",\"right_units\":\"screen\",\"top_units\":\"screen\"},\"id\":\"f690c0bb-541a-4ac0-aead-803cbd6f827c\",\"type\":\"BoxAnnotation\"},{\"attributes\":{\"below\":[{\"id\":\"5e3a7b5f-5d66-4a2c-a55d-7dba3c204647\",\"type\":\"LinearAxis\"}],\"left\":[{\"id\":\"7c579d81-7a17-4d3f-a81e-21b0a552235d\",\"type\":\"LinearAxis\"}],\"plot_height\":400,\"plot_width\":400,\"renderers\":[{\"id\":\"5e3a7b5f-5d66-4a2c-a55d-7dba3c204647\",\"type\":\"LinearAxis\"},{\"id\":\"0946137c-f2c8-4411-88ed-3d24b391df75\",\"type\":\"Grid\"},{\"id\":\"7c579d81-7a17-4d3f-a81e-21b0a552235d\",\"type\":\"LinearAxis\"},{\"id\":\"46436df9-7f96-4442-9cc0-30e297bb6c2b\",\"type\":\"Grid\"},{\"id\":\"f690c0bb-541a-4ac0-aead-803cbd6f827c\",\"type\":\"BoxAnnotation\"},{\"id\":\"3475ee0a-b8c9-4357-b2ce-bd4b327f4e95\",\"type\":\"GlyphRenderer\"}],\"title\":{\"id\":\"866e9958-3757-40da-a7a6-643eb3d89cb3\",\"type\":\"Title\"},\"toolbar\":{\"id\":\"188e8267-27b4-4665-97ed-ed9b9ed89331\",\"type\":\"Toolbar\"},\"x_range\":{\"id\":\"12a199f4-eef8-4061-b470-0a1e9bddcf10\",\"type\":\"DataRange1d\"},\"x_scale\":{\"id\":\"e2b94d36-4d11-49a3-965c-e00f1644cb4c\",\"type\":\"LinearScale\"},\"y_range\":{\"id\":\"d3c5e4ce-ae46-4118-893e-12ed23da0144\",\"type\":\"DataRange1d\"},\"y_scale\":{\"id\":\"6f6d44c2-39f1-4bd9-9a27-36734e05f378\",\"type\":\"LinearScale\"}},\"id\":\"6ea627cf-ef61-4ba0-ba1c-06b98fb0c96d\",\"subtype\":\"Figure\",\"type\":\"Plot\"},{\"attributes\":{\"source\":{\"id\":\"afc36f6f-99cb-4ad2-9e30-f7ba20d2d83d\",\"type\":\"ColumnDataSource\"}},\"id\":\"ac167f66-2e22-4a7f-a5a3-806d574e1e44\",\"type\":\"CDSView\"},{\"attributes\":{},\"id\":\"135fe420-2452-4d52-854f-a9a7fd006ff4\",\"type\":\"HelpTool\"},{\"attributes\":{},\"id\":\"8e5ab742-7f52-443b-b48c-e4b13af7ba29\",\"type\":\"BasicTicker\"},{\"attributes\":{},\"id\":\"bc103d67-f032-4bc2-8c3a-f113bcdaf464\",\"type\":\"BasicTicker\"},{\"attributes\":{\"fill_alpha\":{\"value\":0.6},\"fill_color\":{\"value\":\"firebrick\"},\"line_alpha\":{\"value\":0.6},\"line_color\":{\"value\":\"firebrick\"},\"size\":{\"field\":\"size\",\"units\":\"screen\"},\"x\":{\"field\":\"x\"},\"y\":{\"field\":\"y\"}},\"id\":\"1542cb55-52cc-4fc2-8a9f-8643e2969cef\",\"type\":\"Square\"},{\"attributes\":{\"callback\":null},\"id\":\"12a199f4-eef8-4061-b470-0a1e9bddcf10\",\"type\":\"DataRange1d\"},{\"attributes\":{},\"id\":\"bbd88cf8-0544-46ed-9ca1-95228d6a2b4a\",\"type\":\"WheelZoomTool\"},{\"attributes\":{\"dimension\":1,\"plot\":{\"id\":\"6ea627cf-ef61-4ba0-ba1c-06b98fb0c96d\",\"subtype\":\"Figure\",\"type\":\"Plot\"},\"ticker\":{\"id\":\"bc103d67-f032-4bc2-8c3a-f113bcdaf464\",\"type\":\"BasicTicker\"}},\"id\":\"46436df9-7f96-4442-9cc0-30e297bb6c2b\",\"type\":\"Grid\"},{\"attributes\":{\"plot\":null,\"text\":\"\"},\"id\":\"866e9958-3757-40da-a7a6-643eb3d89cb3\",\"type\":\"Title\"},{\"attributes\":{\"overlay\":{\"id\":\"f690c0bb-541a-4ac0-aead-803cbd6f827c\",\"type\":\"BoxAnnotation\"}},\"id\":\"4e4a81c5-7305-4605-956a-ebb57b957981\",\"type\":\"BoxZoomTool\"},{\"attributes\":{},\"id\":\"6c93fa53-c3ac-47ff-a505-7fe62dab8572\",\"type\":\"BasicTickFormatter\"},{\"attributes\":{\"callback\":null},\"id\":\"d3c5e4ce-ae46-4118-893e-12ed23da0144\",\"type\":\"DataRange1d\"},{\"attributes\":{},\"id\":\"16d78e0b-be39-4032-87e4-897526f3c6f3\",\"type\":\"SaveTool\"},{\"attributes\":{\"plot\":{\"id\":\"6ea627cf-ef61-4ba0-ba1c-06b98fb0c96d\",\"subtype\":\"Figure\",\"type\":\"Plot\"},\"ticker\":{\"id\":\"8e5ab742-7f52-443b-b48c-e4b13af7ba29\",\"type\":\"BasicTicker\"}},\"id\":\"0946137c-f2c8-4411-88ed-3d24b391df75\",\"type\":\"Grid\"}],\"root_ids\":[\"6ea627cf-ef61-4ba0-ba1c-06b98fb0c96d\"]},\"title\":\"Bokeh Application\",\"version\":\"0.12.14\"}};\n",
       "  var render_items = [{\"docid\":\"c6906fb1-2145-4745-9a2d-3f8b55bc28da\",\"elementid\":\"912b6391-59be-433b-a1f7-3317ac7a3186\",\"modelid\":\"6ea627cf-ef61-4ba0-ba1c-06b98fb0c96d\"}];\n",
       "  root.Bokeh.embed.embed_items_notebook(docs_json, render_items);\n",
       "\n",
       "  }\n",
       "  if (root.Bokeh !== undefined) {\n",
       "    embed_document(root);\n",
       "  } else {\n",
       "    var attempts = 0;\n",
       "    var timer = setInterval(function(root) {\n",
       "      if (root.Bokeh !== undefined) {\n",
       "        embed_document(root);\n",
       "        clearInterval(timer);\n",
       "      }\n",
       "      attempts++;\n",
       "      if (attempts > 100) {\n",
       "        console.log(\"Bokeh: ERROR: Unable to run BokehJS code because BokehJS library is missing\")\n",
       "        clearInterval(timer);\n",
       "      }\n",
       "    }, 10, root)\n",
       "  }\n",
       "})(window);"
      ],
      "application/vnd.bokehjs_exec.v0+json": ""
     },
     "metadata": {
      "application/vnd.bokehjs_exec.v0+json": {
       "id": "6ea627cf-ef61-4ba0-ba1c-06b98fb0c96d"
      }
     },
     "output_type": "display_data"
    }
   ],
   "source": [
    "# create a new plot using figure\n",
    "p = figure(plot_width=400, plot_height=400)\n",
    "\n",
    "# add a square renderer with a size, color, alpha, and sizes\n",
    "p.square([1, 2, 3, 4, 5], [6, 7, 2, 4, 5], size=[10, 15, 20, 25, 30], color=\"firebrick\", alpha=0.6)\n",
    "\n",
    "show(p) # show the results"
   ]
  },
  {
   "cell_type": "markdown",
   "metadata": {},
   "source": [
    "Note that in the example above, we are also specifying different sizes for each individual marker. ***In general, all of a glyph's properties can be \"vectorized\" in this fashion. ***  Also note that we have passed ``color`` as a shorthand to set both the line and fill colors easily at the same time. This is a convenience specific to ``bokeh.plotting``.\n",
    "\n",
    "</table><p>There are many marker types available in Bokeh, you can see details and\n",
    "example plots for all of them in the reference guide by clicking on entries in the list below:</p>\n",
    "<table class=\"hlist\" style=\"float:left\"><tr><td><ul>\n",
    "<li><a href=\"http://bokeh.pydata.org/en/latest/docs/reference/plotting.html#bokeh.plotting.Figure.asterisk\" title=\"bokeh.plotting.Figure.asterisk\"><code class=\"xref py py-func docutils literal\"><span class=\"pre\">asterisk()</span></code></a></li>\n",
    "<li><a href=\"http://bokeh.pydata.org/en/latest/docs/reference/plotting.html#bokeh.plotting.Figure.circle\" title=\"bokeh.plotting.Figure.circle\"><code class=\"xref py py-func docutils literal\"><span class=\"pre\">circle()</span></code></a></li>\n",
    "<li><a href=\"http://bokeh.pydata.org/en/latest/docs/reference/plotting.html#bokeh.plotting.Figure.circle_cross\" title=\"bokeh.plotting.Figure.circle_cross\"><code class=\"xref py py-func docutils literal\"><span class=\"pre\">circle_cross()</span></code></a></li>\n",
    "<li><a href=\"http://bokeh.pydata.org/en/latest/docs/reference/plotting.html#bokeh.plotting.Figure.circle_x\" title=\"bokeh.plotting.Figure.circle_x\"><code class=\"xref py py-func docutils literal\"><span class=\"pre\">circle_x()</span></code></a></li>\n",
    "<li><a href=\"http://bokeh.pydata.org/en/latest/docs/reference/plotting.html#bokeh.plotting.Figure.cross\" title=\"bokeh.plotting.Figure.cross\"><code class=\"xref py py-func docutils literal\"><span class=\"pre\">cross()</span></code></a></li>\n",
    "</ul>\n",
    "</td><td><ul>\n",
    "<li><a href=\"http://bokeh.pydata.org/en/latest/docs/reference/plotting.html#bokeh.plotting.Figure.diamond\" title=\"bokeh.plotting.Figure.diamond\"><code class=\"xref py py-func docutils literal\"><span class=\"pre\">diamond()</span></code></a></li>\n",
    "<li><a href=\"http://bokeh.pydata.org/en/latest/docs/reference/plotting.html#bokeh.plotting.Figure.diamond_cross\" title=\"bokeh.plotting.Figure.diamond_cross\"><code class=\"xref py py-func docutils literal\"><span class=\"pre\">diamond_cross()</span></code></a></li>\n",
    "<li><a href=\"http://bokeh.pydata.org/en/latest/docs/reference/plotting.html#bokeh.plotting.Figure.inverted_triangle\" title=\"bokeh.plotting.Figure.inverted_triangle\"><code class=\"xref py py-func docutils literal\"><span class=\"pre\">inverted_triangle()</span></code></a></li>\n",
    "<li><a href=\"http://bokeh.pydata.org/en/latest/docs/reference/plotting.html#bokeh.plotting.Figure.square\" title=\"bokeh.plotting.Figure.square\"><code class=\"xref py py-func docutils literal\"><span class=\"pre\">square()</span></code></a></li>\n",
    "</ul>\n",
    "</td><td><ul>\n",
    "<li><a href=\"http://bokeh.pydata.org/en/latest/docs/reference/plotting.html#bokeh.plotting.Figure.square_cross\" title=\"bokeh.plotting.Figure.square_cross\"><code class=\"xref py py-func docutils literal\"><span class=\"pre\">square_cross()</span></code></a></li>\n",
    "<li><a href=\"http://bokeh.pydata.org/en/latest/docs/reference/plotting.html#bokeh.plotting.Figure.square_x\" title=\"bokeh.plotting.Figure.square_x\"><code class=\"xref py py-func docutils literal\"><span class=\"pre\">square_x()</span></code></a></li>\n",
    "<li><a href=\"http://bokeh.pydata.org/en/latest/docs/reference/plotting.html#bokeh.plotting.Figure.triangle\" title=\"bokeh.plotting.Figure.triangle\"><code class=\"xref py py-func docutils literal\"><span class=\"pre\">triangle()</span></code></a></li>\n",
    "<li><a href=\"http://bokeh.pydata.org/en/latest/docs/reference/plotting.html#bokeh.plotting.Figure.x\" title=\"bokeh.plotting.Figure.x\"><code class=\"xref py py-func docutils literal\"><span class=\"pre\">x()</span></code></a></li>\n",
    "</ul>\n",
    "</td></tr></table>"
   ]
  },
  {
   "cell_type": "code",
   "execution_count": 12,
   "metadata": {},
   "outputs": [
    {
     "data": {
      "text/html": [
       "\n",
       "<div class=\"bk-root\">\n",
       "    <div class=\"bk-plotdiv\" id=\"b73610ed-5d33-473f-a0da-486306313fab\"></div>\n",
       "</div>"
      ]
     },
     "metadata": {},
     "output_type": "display_data"
    },
    {
     "data": {
      "application/javascript": [
       "(function(root) {\n",
       "  function embed_document(root) {\n",
       "    \n",
       "  var docs_json = {\"16636351-8c2f-479d-94c7-e49042fe181b\":{\"roots\":{\"references\":[{\"attributes\":{\"plot\":null,\"text\":\"\"},\"id\":\"7bbc9f11-d1c1-4f4b-a244-7e351334e079\",\"type\":\"Title\"},{\"attributes\":{\"fill_alpha\":{\"value\":0.6},\"fill_color\":{\"value\":\"firebrick\"},\"line_alpha\":{\"value\":0.6},\"line_color\":{\"value\":\"firebrick\"},\"size\":{\"field\":\"size\",\"units\":\"screen\"},\"x\":{\"field\":\"x\"},\"y\":{\"field\":\"y\"}},\"id\":\"11ab0417-662d-4098-8172-941a4cd88583\",\"type\":\"Diamond\"},{\"attributes\":{},\"id\":\"8b9798ec-653b-4177-9a50-d75b5052b1b5\",\"type\":\"BasicTickFormatter\"},{\"attributes\":{\"active_drag\":\"auto\",\"active_inspect\":\"auto\",\"active_scroll\":\"auto\",\"active_tap\":\"auto\",\"tools\":[{\"id\":\"34c59efa-59b2-4c41-be4b-3b59bacc3ad7\",\"type\":\"PanTool\"},{\"id\":\"e95082c6-2117-4311-9dda-70733cf0e472\",\"type\":\"WheelZoomTool\"},{\"id\":\"00214d80-97dc-49e7-9918-b3db0ee380c9\",\"type\":\"BoxZoomTool\"},{\"id\":\"223ff331-452b-45ca-b9c7-54b7b03cc088\",\"type\":\"SaveTool\"},{\"id\":\"336633b3-2270-4963-bf18-ca56b38b3ca7\",\"type\":\"ResetTool\"},{\"id\":\"89e18979-a6b2-40d0-9dd7-6ccf9f1a0175\",\"type\":\"HelpTool\"}]},\"id\":\"fcc9561e-cad7-481b-9eee-874bce445ad6\",\"type\":\"Toolbar\"},{\"attributes\":{\"overlay\":{\"id\":\"c0be139b-c1d6-436e-8576-9200f5c81789\",\"type\":\"BoxAnnotation\"}},\"id\":\"00214d80-97dc-49e7-9918-b3db0ee380c9\",\"type\":\"BoxZoomTool\"},{\"attributes\":{},\"id\":\"34c59efa-59b2-4c41-be4b-3b59bacc3ad7\",\"type\":\"PanTool\"},{\"attributes\":{\"data_source\":{\"id\":\"82e7c182-e184-45cf-9f1b-5e3caed6d34b\",\"type\":\"ColumnDataSource\"},\"glyph\":{\"id\":\"11ab0417-662d-4098-8172-941a4cd88583\",\"type\":\"Diamond\"},\"hover_glyph\":null,\"muted_glyph\":null,\"nonselection_glyph\":{\"id\":\"2f926084-297b-4160-9dff-e5d48f6269dc\",\"type\":\"Diamond\"},\"selection_glyph\":null,\"view\":{\"id\":\"c6206d0c-8c7c-4cdd-8317-4a268e104763\",\"type\":\"CDSView\"}},\"id\":\"1fadaf49-9763-4dda-be4a-7792887ff008\",\"type\":\"GlyphRenderer\"},{\"attributes\":{\"callback\":null,\"column_names\":[\"x\",\"y\",\"size\"],\"data\":{\"size\":[10,15,20,25,30],\"x\":[1,2,3,4,5],\"y\":[6,7,2,4,5]}},\"id\":\"82e7c182-e184-45cf-9f1b-5e3caed6d34b\",\"type\":\"ColumnDataSource\"},{\"attributes\":{},\"id\":\"89e18979-a6b2-40d0-9dd7-6ccf9f1a0175\",\"type\":\"HelpTool\"},{\"attributes\":{\"bottom_units\":\"screen\",\"fill_alpha\":{\"value\":0.5},\"fill_color\":{\"value\":\"lightgrey\"},\"left_units\":\"screen\",\"level\":\"overlay\",\"line_alpha\":{\"value\":1.0},\"line_color\":{\"value\":\"black\"},\"line_dash\":[4,4],\"line_width\":{\"value\":2},\"plot\":null,\"render_mode\":\"css\",\"right_units\":\"screen\",\"top_units\":\"screen\"},\"id\":\"c0be139b-c1d6-436e-8576-9200f5c81789\",\"type\":\"BoxAnnotation\"},{\"attributes\":{},\"id\":\"223ff331-452b-45ca-b9c7-54b7b03cc088\",\"type\":\"SaveTool\"},{\"attributes\":{},\"id\":\"18a20642-2dc7-4147-9be0-1e8eb8cb0eda\",\"type\":\"BasicTicker\"},{\"attributes\":{},\"id\":\"b9f5b97f-1a4d-4da5-827b-ab516116b4f8\",\"type\":\"LinearScale\"},{\"attributes\":{},\"id\":\"336633b3-2270-4963-bf18-ca56b38b3ca7\",\"type\":\"ResetTool\"},{\"attributes\":{\"dimension\":1,\"plot\":{\"id\":\"346d898f-2492-42f6-b406-8a86b6685f35\",\"subtype\":\"Figure\",\"type\":\"Plot\"},\"ticker\":{\"id\":\"18a20642-2dc7-4147-9be0-1e8eb8cb0eda\",\"type\":\"BasicTicker\"}},\"id\":\"d6f77918-c760-448e-ac36-8fad3e2451d3\",\"type\":\"Grid\"},{\"attributes\":{\"plot\":{\"id\":\"346d898f-2492-42f6-b406-8a86b6685f35\",\"subtype\":\"Figure\",\"type\":\"Plot\"},\"ticker\":{\"id\":\"c836213b-3050-489d-bca4-20becfa144a5\",\"type\":\"BasicTicker\"}},\"id\":\"c96645a0-e4aa-4959-90d4-fa7fadc2d81b\",\"type\":\"Grid\"},{\"attributes\":{\"fill_alpha\":{\"value\":0.1},\"fill_color\":{\"value\":\"#1f77b4\"},\"line_alpha\":{\"value\":0.1},\"line_color\":{\"value\":\"#1f77b4\"},\"size\":{\"field\":\"size\",\"units\":\"screen\"},\"x\":{\"field\":\"x\"},\"y\":{\"field\":\"y\"}},\"id\":\"2f926084-297b-4160-9dff-e5d48f6269dc\",\"type\":\"Diamond\"},{\"attributes\":{\"callback\":null},\"id\":\"37c38326-4836-434d-80a4-9b6319e2ae9b\",\"type\":\"DataRange1d\"},{\"attributes\":{\"source\":{\"id\":\"82e7c182-e184-45cf-9f1b-5e3caed6d34b\",\"type\":\"ColumnDataSource\"}},\"id\":\"c6206d0c-8c7c-4cdd-8317-4a268e104763\",\"type\":\"CDSView\"},{\"attributes\":{\"formatter\":{\"id\":\"cb585599-0568-4156-9b50-8d741f999fbc\",\"type\":\"BasicTickFormatter\"},\"plot\":{\"id\":\"346d898f-2492-42f6-b406-8a86b6685f35\",\"subtype\":\"Figure\",\"type\":\"Plot\"},\"ticker\":{\"id\":\"c836213b-3050-489d-bca4-20becfa144a5\",\"type\":\"BasicTicker\"}},\"id\":\"e9df0c21-82cc-44cd-a58d-e247bfb187ca\",\"type\":\"LinearAxis\"},{\"attributes\":{},\"id\":\"cb585599-0568-4156-9b50-8d741f999fbc\",\"type\":\"BasicTickFormatter\"},{\"attributes\":{},\"id\":\"789d631a-3d6e-41ca-9242-fa4138bed6c4\",\"type\":\"LinearScale\"},{\"attributes\":{},\"id\":\"e95082c6-2117-4311-9dda-70733cf0e472\",\"type\":\"WheelZoomTool\"},{\"attributes\":{},\"id\":\"c836213b-3050-489d-bca4-20becfa144a5\",\"type\":\"BasicTicker\"},{\"attributes\":{\"formatter\":{\"id\":\"8b9798ec-653b-4177-9a50-d75b5052b1b5\",\"type\":\"BasicTickFormatter\"},\"plot\":{\"id\":\"346d898f-2492-42f6-b406-8a86b6685f35\",\"subtype\":\"Figure\",\"type\":\"Plot\"},\"ticker\":{\"id\":\"18a20642-2dc7-4147-9be0-1e8eb8cb0eda\",\"type\":\"BasicTicker\"}},\"id\":\"412af45d-d904-46ed-a9cd-1bc8ba7b39bf\",\"type\":\"LinearAxis\"},{\"attributes\":{\"callback\":null},\"id\":\"1d2ebf50-3d18-4a44-8064-d0497ec3246f\",\"type\":\"DataRange1d\"},{\"attributes\":{\"below\":[{\"id\":\"e9df0c21-82cc-44cd-a58d-e247bfb187ca\",\"type\":\"LinearAxis\"}],\"left\":[{\"id\":\"412af45d-d904-46ed-a9cd-1bc8ba7b39bf\",\"type\":\"LinearAxis\"}],\"plot_height\":400,\"plot_width\":400,\"renderers\":[{\"id\":\"e9df0c21-82cc-44cd-a58d-e247bfb187ca\",\"type\":\"LinearAxis\"},{\"id\":\"c96645a0-e4aa-4959-90d4-fa7fadc2d81b\",\"type\":\"Grid\"},{\"id\":\"412af45d-d904-46ed-a9cd-1bc8ba7b39bf\",\"type\":\"LinearAxis\"},{\"id\":\"d6f77918-c760-448e-ac36-8fad3e2451d3\",\"type\":\"Grid\"},{\"id\":\"c0be139b-c1d6-436e-8576-9200f5c81789\",\"type\":\"BoxAnnotation\"},{\"id\":\"1fadaf49-9763-4dda-be4a-7792887ff008\",\"type\":\"GlyphRenderer\"}],\"title\":{\"id\":\"7bbc9f11-d1c1-4f4b-a244-7e351334e079\",\"type\":\"Title\"},\"toolbar\":{\"id\":\"fcc9561e-cad7-481b-9eee-874bce445ad6\",\"type\":\"Toolbar\"},\"x_range\":{\"id\":\"1d2ebf50-3d18-4a44-8064-d0497ec3246f\",\"type\":\"DataRange1d\"},\"x_scale\":{\"id\":\"789d631a-3d6e-41ca-9242-fa4138bed6c4\",\"type\":\"LinearScale\"},\"y_range\":{\"id\":\"37c38326-4836-434d-80a4-9b6319e2ae9b\",\"type\":\"DataRange1d\"},\"y_scale\":{\"id\":\"b9f5b97f-1a4d-4da5-827b-ab516116b4f8\",\"type\":\"LinearScale\"}},\"id\":\"346d898f-2492-42f6-b406-8a86b6685f35\",\"subtype\":\"Figure\",\"type\":\"Plot\"}],\"root_ids\":[\"346d898f-2492-42f6-b406-8a86b6685f35\"]},\"title\":\"Bokeh Application\",\"version\":\"0.12.14\"}};\n",
       "  var render_items = [{\"docid\":\"16636351-8c2f-479d-94c7-e49042fe181b\",\"elementid\":\"b73610ed-5d33-473f-a0da-486306313fab\",\"modelid\":\"346d898f-2492-42f6-b406-8a86b6685f35\"}];\n",
       "  root.Bokeh.embed.embed_items_notebook(docs_json, render_items);\n",
       "\n",
       "  }\n",
       "  if (root.Bokeh !== undefined) {\n",
       "    embed_document(root);\n",
       "  } else {\n",
       "    var attempts = 0;\n",
       "    var timer = setInterval(function(root) {\n",
       "      if (root.Bokeh !== undefined) {\n",
       "        embed_document(root);\n",
       "        clearInterval(timer);\n",
       "      }\n",
       "      attempts++;\n",
       "      if (attempts > 100) {\n",
       "        console.log(\"Bokeh: ERROR: Unable to run BokehJS code because BokehJS library is missing\")\n",
       "        clearInterval(timer);\n",
       "      }\n",
       "    }, 10, root)\n",
       "  }\n",
       "})(window);"
      ],
      "application/vnd.bokehjs_exec.v0+json": ""
     },
     "metadata": {
      "application/vnd.bokehjs_exec.v0+json": {
       "id": "346d898f-2492-42f6-b406-8a86b6685f35"
      }
     },
     "output_type": "display_data"
    }
   ],
   "source": [
    "# EXERCISE: Plot some different markers in this cell\n",
    "# create a new plot using figure\n",
    "p = figure(plot_width=400, plot_height=400)\n",
    "\n",
    "# add a square renderer with a size, color, alpha, and sizes\n",
    "p.diamond([1, 2, 3, 4, 5], [6, 7, 2, 4, 5], size=[10, 15, 20, 25, 30], color=\"firebrick\", alpha=0.6)\n",
    "\n",
    "show(p) # show the results\n"
   ]
  },
  {
   "cell_type": "markdown",
   "metadata": {},
   "source": [
    "# Basic Line Plots"
   ]
  },
  {
   "cell_type": "code",
   "execution_count": 13,
   "metadata": {},
   "outputs": [
    {
     "data": {
      "text/html": [
       "\n",
       "<div class=\"bk-root\">\n",
       "    <div class=\"bk-plotdiv\" id=\"89111ccc-1be9-4e9b-8f92-6dfb2272b57b\"></div>\n",
       "</div>"
      ]
     },
     "metadata": {},
     "output_type": "display_data"
    },
    {
     "data": {
      "application/javascript": [
       "(function(root) {\n",
       "  function embed_document(root) {\n",
       "    \n",
       "  var docs_json = {\"28a750d0-e973-4051-a19a-b216681ddeeb\":{\"roots\":{\"references\":[{\"attributes\":{\"overlay\":{\"id\":\"bfc77ef6-a283-47fc-943c-f5f066a00adb\",\"type\":\"BoxAnnotation\"}},\"id\":\"ca9854ac-18a0-4c2e-a239-ad2b1e5c793a\",\"type\":\"BoxZoomTool\"},{\"attributes\":{},\"id\":\"5b5e18a0-e7a9-4cb6-8b28-601a4010333b\",\"type\":\"PanTool\"},{\"attributes\":{},\"id\":\"9486882c-dffd-4630-9045-750917e96e7f\",\"type\":\"HelpTool\"},{\"attributes\":{\"bottom_units\":\"screen\",\"fill_alpha\":{\"value\":0.5},\"fill_color\":{\"value\":\"lightgrey\"},\"left_units\":\"screen\",\"level\":\"overlay\",\"line_alpha\":{\"value\":1.0},\"line_color\":{\"value\":\"black\"},\"line_dash\":[4,4],\"line_width\":{\"value\":2},\"plot\":null,\"render_mode\":\"css\",\"right_units\":\"screen\",\"top_units\":\"screen\"},\"id\":\"bfc77ef6-a283-47fc-943c-f5f066a00adb\",\"type\":\"BoxAnnotation\"},{\"attributes\":{\"formatter\":{\"id\":\"c5289cb9-8554-4294-9e8b-df3f5b350ac4\",\"type\":\"BasicTickFormatter\"},\"plot\":{\"id\":\"3a0989b9-851f-481f-8efe-c1ef5f1ec8c3\",\"subtype\":\"Figure\",\"type\":\"Plot\"},\"ticker\":{\"id\":\"ac8124a4-c5b9-4743-85cd-ff82e0dcfa02\",\"type\":\"BasicTicker\"}},\"id\":\"4feff046-ff15-4b03-a94e-74c840449f02\",\"type\":\"LinearAxis\"},{\"attributes\":{},\"id\":\"b5bea367-ffae-40ac-836d-9c5f663235cb\",\"type\":\"ResetTool\"},{\"attributes\":{},\"id\":\"0f9d2b12-7a9f-4825-85a4-660ec27690c0\",\"type\":\"BasicTickFormatter\"},{\"attributes\":{\"plot\":{\"id\":\"3a0989b9-851f-481f-8efe-c1ef5f1ec8c3\",\"subtype\":\"Figure\",\"type\":\"Plot\"},\"ticker\":{\"id\":\"ac8124a4-c5b9-4743-85cd-ff82e0dcfa02\",\"type\":\"BasicTicker\"}},\"id\":\"2a574a4d-672f-40ad-b571-6759e811742c\",\"type\":\"Grid\"},{\"attributes\":{\"plot\":null,\"text\":\"My Line Plot\"},\"id\":\"3da2023e-bd4a-40bd-a34b-18091d5e61f5\",\"type\":\"Title\"},{\"attributes\":{\"line_alpha\":0.1,\"line_color\":\"#1f77b4\",\"line_width\":2,\"x\":{\"field\":\"x\"},\"y\":{\"field\":\"y\"}},\"id\":\"f31683a1-2b99-471e-a457-b83f707322a7\",\"type\":\"Line\"},{\"attributes\":{},\"id\":\"ac8124a4-c5b9-4743-85cd-ff82e0dcfa02\",\"type\":\"BasicTicker\"},{\"attributes\":{},\"id\":\"fea84a68-dad1-4a39-906b-b152fbc4fc38\",\"type\":\"BasicTicker\"},{\"attributes\":{\"line_color\":\"#1f77b4\",\"line_width\":2,\"x\":{\"field\":\"x\"},\"y\":{\"field\":\"y\"}},\"id\":\"35a84da7-ae59-4167-82ce-72da9fbb8e1e\",\"type\":\"Line\"},{\"attributes\":{\"active_drag\":\"auto\",\"active_inspect\":\"auto\",\"active_scroll\":\"auto\",\"active_tap\":\"auto\",\"tools\":[{\"id\":\"5b5e18a0-e7a9-4cb6-8b28-601a4010333b\",\"type\":\"PanTool\"},{\"id\":\"bc81d385-b221-498f-894a-e13d24c99746\",\"type\":\"WheelZoomTool\"},{\"id\":\"ca9854ac-18a0-4c2e-a239-ad2b1e5c793a\",\"type\":\"BoxZoomTool\"},{\"id\":\"86fd0268-f560-4ef0-9ffc-1624c64c4c9a\",\"type\":\"SaveTool\"},{\"id\":\"b5bea367-ffae-40ac-836d-9c5f663235cb\",\"type\":\"ResetTool\"},{\"id\":\"9486882c-dffd-4630-9045-750917e96e7f\",\"type\":\"HelpTool\"}]},\"id\":\"4e8e9206-79a0-4a6e-87f1-db3b766c8261\",\"type\":\"Toolbar\"},{\"attributes\":{\"callback\":null},\"id\":\"8d59de4e-7db7-4129-9776-9e3aa57569b3\",\"type\":\"DataRange1d\"},{\"attributes\":{},\"id\":\"86fd0268-f560-4ef0-9ffc-1624c64c4c9a\",\"type\":\"SaveTool\"},{\"attributes\":{},\"id\":\"c5289cb9-8554-4294-9e8b-df3f5b350ac4\",\"type\":\"BasicTickFormatter\"},{\"attributes\":{},\"id\":\"bc81d385-b221-498f-894a-e13d24c99746\",\"type\":\"WheelZoomTool\"},{\"attributes\":{\"callback\":null},\"id\":\"55d2e0d4-df94-40b1-9603-d613bdd36244\",\"type\":\"DataRange1d\"},{\"attributes\":{\"callback\":null,\"column_names\":[\"x\",\"y\"],\"data\":{\"x\":[1,2,3,4,5],\"y\":[6,7,2,4,5]}},\"id\":\"f080cdee-0e39-4130-aacf-4f1a41f9a91d\",\"type\":\"ColumnDataSource\"},{\"attributes\":{\"source\":{\"id\":\"f080cdee-0e39-4130-aacf-4f1a41f9a91d\",\"type\":\"ColumnDataSource\"}},\"id\":\"10c9e859-5a08-46bf-943a-ec323fefbc1f\",\"type\":\"CDSView\"},{\"attributes\":{\"below\":[{\"id\":\"4feff046-ff15-4b03-a94e-74c840449f02\",\"type\":\"LinearAxis\"}],\"left\":[{\"id\":\"e4291512-0c22-451d-987a-5fa6784c7807\",\"type\":\"LinearAxis\"}],\"plot_height\":400,\"plot_width\":400,\"renderers\":[{\"id\":\"4feff046-ff15-4b03-a94e-74c840449f02\",\"type\":\"LinearAxis\"},{\"id\":\"2a574a4d-672f-40ad-b571-6759e811742c\",\"type\":\"Grid\"},{\"id\":\"e4291512-0c22-451d-987a-5fa6784c7807\",\"type\":\"LinearAxis\"},{\"id\":\"390bda82-a8af-4cae-a624-ce282d362f12\",\"type\":\"Grid\"},{\"id\":\"bfc77ef6-a283-47fc-943c-f5f066a00adb\",\"type\":\"BoxAnnotation\"},{\"id\":\"32481818-5406-4a79-b402-50d7b947e9f5\",\"type\":\"GlyphRenderer\"}],\"title\":{\"id\":\"3da2023e-bd4a-40bd-a34b-18091d5e61f5\",\"type\":\"Title\"},\"toolbar\":{\"id\":\"4e8e9206-79a0-4a6e-87f1-db3b766c8261\",\"type\":\"Toolbar\"},\"x_range\":{\"id\":\"55d2e0d4-df94-40b1-9603-d613bdd36244\",\"type\":\"DataRange1d\"},\"x_scale\":{\"id\":\"12cdde01-d3e7-4b4b-be86-687e3d6fb0de\",\"type\":\"LinearScale\"},\"y_range\":{\"id\":\"8d59de4e-7db7-4129-9776-9e3aa57569b3\",\"type\":\"DataRange1d\"},\"y_scale\":{\"id\":\"824fbec0-038c-4feb-b790-2396b1a6f36d\",\"type\":\"LinearScale\"}},\"id\":\"3a0989b9-851f-481f-8efe-c1ef5f1ec8c3\",\"subtype\":\"Figure\",\"type\":\"Plot\"},{\"attributes\":{\"data_source\":{\"id\":\"f080cdee-0e39-4130-aacf-4f1a41f9a91d\",\"type\":\"ColumnDataSource\"},\"glyph\":{\"id\":\"35a84da7-ae59-4167-82ce-72da9fbb8e1e\",\"type\":\"Line\"},\"hover_glyph\":null,\"muted_glyph\":null,\"nonselection_glyph\":{\"id\":\"f31683a1-2b99-471e-a457-b83f707322a7\",\"type\":\"Line\"},\"selection_glyph\":null,\"view\":{\"id\":\"10c9e859-5a08-46bf-943a-ec323fefbc1f\",\"type\":\"CDSView\"}},\"id\":\"32481818-5406-4a79-b402-50d7b947e9f5\",\"type\":\"GlyphRenderer\"},{\"attributes\":{\"formatter\":{\"id\":\"0f9d2b12-7a9f-4825-85a4-660ec27690c0\",\"type\":\"BasicTickFormatter\"},\"plot\":{\"id\":\"3a0989b9-851f-481f-8efe-c1ef5f1ec8c3\",\"subtype\":\"Figure\",\"type\":\"Plot\"},\"ticker\":{\"id\":\"fea84a68-dad1-4a39-906b-b152fbc4fc38\",\"type\":\"BasicTicker\"}},\"id\":\"e4291512-0c22-451d-987a-5fa6784c7807\",\"type\":\"LinearAxis\"},{\"attributes\":{\"dimension\":1,\"plot\":{\"id\":\"3a0989b9-851f-481f-8efe-c1ef5f1ec8c3\",\"subtype\":\"Figure\",\"type\":\"Plot\"},\"ticker\":{\"id\":\"fea84a68-dad1-4a39-906b-b152fbc4fc38\",\"type\":\"BasicTicker\"}},\"id\":\"390bda82-a8af-4cae-a624-ce282d362f12\",\"type\":\"Grid\"},{\"attributes\":{},\"id\":\"824fbec0-038c-4feb-b790-2396b1a6f36d\",\"type\":\"LinearScale\"},{\"attributes\":{},\"id\":\"12cdde01-d3e7-4b4b-be86-687e3d6fb0de\",\"type\":\"LinearScale\"}],\"root_ids\":[\"3a0989b9-851f-481f-8efe-c1ef5f1ec8c3\"]},\"title\":\"Bokeh Application\",\"version\":\"0.12.14\"}};\n",
       "  var render_items = [{\"docid\":\"28a750d0-e973-4051-a19a-b216681ddeeb\",\"elementid\":\"89111ccc-1be9-4e9b-8f92-6dfb2272b57b\",\"modelid\":\"3a0989b9-851f-481f-8efe-c1ef5f1ec8c3\"}];\n",
       "  root.Bokeh.embed.embed_items_notebook(docs_json, render_items);\n",
       "\n",
       "  }\n",
       "  if (root.Bokeh !== undefined) {\n",
       "    embed_document(root);\n",
       "  } else {\n",
       "    var attempts = 0;\n",
       "    var timer = setInterval(function(root) {\n",
       "      if (root.Bokeh !== undefined) {\n",
       "        embed_document(root);\n",
       "        clearInterval(timer);\n",
       "      }\n",
       "      attempts++;\n",
       "      if (attempts > 100) {\n",
       "        console.log(\"Bokeh: ERROR: Unable to run BokehJS code because BokehJS library is missing\")\n",
       "        clearInterval(timer);\n",
       "      }\n",
       "    }, 10, root)\n",
       "  }\n",
       "})(window);"
      ],
      "application/vnd.bokehjs_exec.v0+json": ""
     },
     "metadata": {
      "application/vnd.bokehjs_exec.v0+json": {
       "id": "3a0989b9-851f-481f-8efe-c1ef5f1ec8c3"
      }
     },
     "output_type": "display_data"
    }
   ],
   "source": [
    "# create a new plot (with a title) using figure\n",
    "p = figure(plot_width=400, plot_height=400, title=\"My Line Plot\")\n",
    "\n",
    "# add a line renderer\n",
    "p.line([1, 2, 3, 4, 5], [6, 7, 2, 4, 5], line_width=2)\n",
    "\n",
    "show(p) # show the results"
   ]
  },
  {
   "cell_type": "markdown",
   "metadata": {},
   "source": [
    "# Images"
   ]
  },
  {
   "cell_type": "markdown",
   "metadata": {},
   "source": [
    "The example below shows how to use the `image_rgba` method to display raw RGBA data. \n",
    "\n",
    "**Note**: This example makes use of the NumPy library "
   ]
  },
  {
   "cell_type": "code",
   "execution_count": 14,
   "metadata": {},
   "outputs": [
    {
     "data": {
      "text/html": [
       "\n",
       "<div class=\"bk-root\">\n",
       "    <div class=\"bk-plotdiv\" id=\"2f01b5d9-31b4-480d-98b3-561a4481105b\"></div>\n",
       "</div>"
      ]
     },
     "metadata": {},
     "output_type": "display_data"
    },
    {
     "data": {
      "application/javascript": [
       "(function(root) {\n",
       "  function embed_document(root) {\n",
       "    \n",
       "  var docs_json = {\"f56f03bb-fba1-4612-b952-bb5cfdab4d80\":{\"roots\":{\"references\":[{\"attributes\":{\"plot\":{\"id\":\"e871ff6a-daea-41b4-85e2-7a957009d8b8\",\"subtype\":\"Figure\",\"type\":\"Plot\"},\"ticker\":{\"id\":\"6bedcfde-d9c7-41e7-9ac5-3b3a73e7bbd4\",\"type\":\"BasicTicker\"}},\"id\":\"4a476ce1-7470-4439-a975-a78dced101f1\",\"type\":\"Grid\"},{\"attributes\":{},\"id\":\"f82eab75-6a45-491f-b568-d21b2d4cabeb\",\"type\":\"HelpTool\"},{\"attributes\":{\"callback\":null,\"end\":10},\"id\":\"8720c68d-7d7c-4bb9-a75c-b4fbae5c3a2c\",\"type\":\"Range1d\"},{\"attributes\":{},\"id\":\"c6b17024-277f-4902-b2a9-a6a3ed8f3f8e\",\"type\":\"BasicTicker\"},{\"attributes\":{},\"id\":\"ed4c6e09-7c69-4363-86e7-e588d4d7ca4c\",\"type\":\"BasicTickFormatter\"},{\"attributes\":{\"callback\":null,\"end\":10},\"id\":\"a79f3517-092f-4a04-817a-af37d62eae77\",\"type\":\"Range1d\"},{\"attributes\":{\"plot\":null,\"text\":\"\"},\"id\":\"e5048161-3937-4ff8-9eca-be39ee796289\",\"type\":\"Title\"},{\"attributes\":{},\"id\":\"ff3302a5-3268-4876-acf9-4ceea8ab30ec\",\"type\":\"LinearScale\"},{\"attributes\":{},\"id\":\"a07323d5-1a94-43a7-b134-78c882e42ef6\",\"type\":\"LinearScale\"},{\"attributes\":{\"dimension\":1,\"plot\":{\"id\":\"e871ff6a-daea-41b4-85e2-7a957009d8b8\",\"subtype\":\"Figure\",\"type\":\"Plot\"},\"ticker\":{\"id\":\"c6b17024-277f-4902-b2a9-a6a3ed8f3f8e\",\"type\":\"BasicTicker\"}},\"id\":\"6f4ae9ff-ebe9-4205-b3ea-4d78cdcd26e4\",\"type\":\"Grid\"},{\"attributes\":{\"formatter\":{\"id\":\"ed4c6e09-7c69-4363-86e7-e588d4d7ca4c\",\"type\":\"BasicTickFormatter\"},\"plot\":{\"id\":\"e871ff6a-daea-41b4-85e2-7a957009d8b8\",\"subtype\":\"Figure\",\"type\":\"Plot\"},\"ticker\":{\"id\":\"6bedcfde-d9c7-41e7-9ac5-3b3a73e7bbd4\",\"type\":\"BasicTicker\"}},\"id\":\"0ca76cd9-1319-4383-92de-760e650e9431\",\"type\":\"LinearAxis\"},{\"attributes\":{\"formatter\":{\"id\":\"9f15fd1f-93e1-487b-9276-a57d2aeffb8a\",\"type\":\"BasicTickFormatter\"},\"plot\":{\"id\":\"e871ff6a-daea-41b4-85e2-7a957009d8b8\",\"subtype\":\"Figure\",\"type\":\"Plot\"},\"ticker\":{\"id\":\"c6b17024-277f-4902-b2a9-a6a3ed8f3f8e\",\"type\":\"BasicTicker\"}},\"id\":\"5389fb5c-3146-4611-96ea-931d69651c1f\",\"type\":\"LinearAxis\"},{\"attributes\":{\"dh\":{\"field\":\"dh\",\"units\":\"data\"},\"dw\":{\"field\":\"dw\",\"units\":\"data\"},\"image\":{\"field\":\"image\"},\"x\":{\"field\":\"x\"},\"y\":{\"field\":\"y\"}},\"id\":\"0fb6d149-7de7-4fa4-b6d8-e7853f3824cc\",\"type\":\"ImageRGBA\"},{\"attributes\":{\"dh\":{\"field\":\"dh\",\"units\":\"data\"},\"dw\":{\"field\":\"dw\",\"units\":\"data\"},\"image\":{\"field\":\"image\"},\"x\":{\"field\":\"x\"},\"y\":{\"field\":\"y\"}},\"id\":\"db8e6866-0d39-4a91-ac16-32eb9c9bf173\",\"type\":\"ImageRGBA\"},{\"attributes\":{\"bottom_units\":\"screen\",\"fill_alpha\":{\"value\":0.5},\"fill_color\":{\"value\":\"lightgrey\"},\"left_units\":\"screen\",\"level\":\"overlay\",\"line_alpha\":{\"value\":1.0},\"line_color\":{\"value\":\"black\"},\"line_dash\":[4,4],\"line_width\":{\"value\":2},\"plot\":null,\"render_mode\":\"css\",\"right_units\":\"screen\",\"top_units\":\"screen\"},\"id\":\"1ad8cae3-d656-402a-b093-b4bb4bcf3353\",\"type\":\"BoxAnnotation\"},{\"attributes\":{},\"id\":\"2c4086cd-269c-41f5-8298-78a73a86aa57\",\"type\":\"PanTool\"},{\"attributes\":{\"callback\":null,\"column_names\":[\"image\",\"x\",\"y\",\"dw\",\"dh\"],\"data\":{\"dh\":[10],\"dw\":[10],\"image\":[{\"__ndarray__\":\"AJ4A/wCeDP8Anhn/AJ4m/wCeM/8Anj//AJ5M/wCeWf8Anmb/AJ5y/wCef/8Anoz/AJ6Z/wCepf8AnrL/AJ6//wCezP8Antj/AJ7l/wCe8v8MngD/DJ4M/wyeGf8Mnib/DJ4z/wyeP/8Mnkz/DJ5Z/wyeZv8MnnL/DJ5//wyejP8Mnpn/DJ6l/wyesv8Mnr//DJ7M/wye2P8MnuX/DJ7y/xmeAP8Zngz/GZ4Z/xmeJv8ZnjP/GZ4//xmeTP8Znln/GZ5m/xmecv8Znn//GZ6M/xmemf8ZnqX/GZ6y/xmev/8Znsz/GZ7Y/xme5f8ZnvL/Jp4A/yaeDP8mnhn/Jp4m/yaeM/8mnj//Jp5M/yaeWf8mnmb/Jp5y/yaef/8mnoz/Jp6Z/yaepf8mnrL/Jp6//yaezP8mntj/Jp7l/yae8v8zngD/M54M/zOeGf8znib/M54z/zOeP/8znkz/M55Z/zOeZv8znnL/M55//zOejP8znpn/M56l/zOesv8znr//M57M/zOe2P8znuX/M57y/z+eAP8/ngz/P54Z/z+eJv8/njP/P54//z+eTP8/nln/P55m/z+ecv8/nn//P56M/z+emf8/nqX/P56y/z+ev/8/nsz/P57Y/z+e5f8/nvL/TJ4A/0yeDP9Mnhn/TJ4m/0yeM/9Mnj//TJ5M/0yeWf9Mnmb/TJ5y/0yef/9Mnoz/TJ6Z/0yepf9MnrL/TJ6//0yezP9Mntj/TJ7l/0ye8v9ZngD/WZ4M/1meGf9Znib/WZ4z/1meP/9Znkz/WZ5Z/1meZv9ZnnL/WZ5//1mejP9Znpn/WZ6l/1mesv9Znr//WZ7M/1me2P9ZnuX/WZ7y/2aeAP9mngz/Zp4Z/2aeJv9mnjP/Zp4//2aeTP9mnln/Zp5m/2aecv9mnn//Zp6M/2aemf9mnqX/Zp6y/2aev/9mnsz/Zp7Y/2ae5f9mnvL/cp4A/3KeDP9ynhn/cp4m/3KeM/9ynj//cp5M/3KeWf9ynmb/cp5y/3Kef/9ynoz/cp6Z/3Kepf9ynrL/cp6//3KezP9yntj/cp7l/3Ke8v9/ngD/f54M/3+eGf9/nib/f54z/3+eP/9/nkz/f55Z/3+eZv9/nnL/f55//3+ejP9/npn/f56l/3+esv9/nr//f57M/3+e2P9/nuX/f57y/4yeAP+Mngz/jJ4Z/4yeJv+MnjP/jJ4//4yeTP+Mnln/jJ5m/4yecv+Mnn//jJ6M/4yemf+MnqX/jJ6y/4yev/+Mnsz/jJ7Y/4ye5f+MnvL/mZ4A/5meDP+Znhn/mZ4m/5meM/+Znj//mZ5M/5meWf+Znmb/mZ5y/5mef/+Znoz/mZ6Z/5mepf+ZnrL/mZ6//5mezP+Zntj/mZ7l/5me8v+lngD/pZ4M/6WeGf+lnib/pZ4z/6WeP/+lnkz/pZ5Z/6WeZv+lnnL/pZ5//6WejP+lnpn/pZ6l/6Wesv+lnr//pZ7M/6We2P+lnuX/pZ7y/7KeAP+yngz/sp4Z/7KeJv+ynjP/sp4//7KeTP+ynln/sp5m/7Kecv+ynn//sp6M/7Kemf+ynqX/sp6y/7Kev/+ynsz/sp7Y/7Ke5f+ynvL/v54A/7+eDP+/nhn/v54m/7+eM/+/nj//v55M/7+eWf+/nmb/v55y/7+ef/+/noz/v56Z/7+epf+/nrL/v56//7+ezP+/ntj/v57l/7+e8v/MngD/zJ4M/8yeGf/Mnib/zJ4z/8yeP//Mnkz/zJ5Z/8yeZv/MnnL/zJ5//8yejP/Mnpn/zJ6l/8yesv/Mnr//zJ7M/8ye2P/MnuX/zJ7y/9ieAP/Yngz/2J4Z/9ieJv/YnjP/2J4//9ieTP/Ynln/2J5m/9iecv/Ynn//2J6M/9iemf/YnqX/2J6y/9iev//Ynsz/2J7Y/9ie5f/YnvL/5Z4A/+WeDP/lnhn/5Z4m/+WeM//lnj//5Z5M/+WeWf/lnmb/5Z5y/+Wef//lnoz/5Z6Z/+Wepf/lnrL/5Z6//+WezP/lntj/5Z7l/+We8v/yngD/8p4M//KeGf/ynib/8p4z//KeP//ynkz/8p5Z//KeZv/ynnL/8p5///KejP/ynpn/8p6l//Kesv/ynr//8p7M//Ke2P/ynuX/8p7y/w==\",\"dtype\":\"uint32\",\"shape\":[20,20]}],\"x\":[0],\"y\":[0]}},\"id\":\"ee443b2d-c21f-48fe-9952-69cdb5ede764\",\"type\":\"ColumnDataSource\"},{\"attributes\":{\"source\":{\"id\":\"ee443b2d-c21f-48fe-9952-69cdb5ede764\",\"type\":\"ColumnDataSource\"}},\"id\":\"e3d64fe7-0446-4aa7-9b1b-22d658000b44\",\"type\":\"CDSView\"},{\"attributes\":{\"data_source\":{\"id\":\"ee443b2d-c21f-48fe-9952-69cdb5ede764\",\"type\":\"ColumnDataSource\"},\"glyph\":{\"id\":\"db8e6866-0d39-4a91-ac16-32eb9c9bf173\",\"type\":\"ImageRGBA\"},\"hover_glyph\":null,\"muted_glyph\":null,\"nonselection_glyph\":{\"id\":\"0fb6d149-7de7-4fa4-b6d8-e7853f3824cc\",\"type\":\"ImageRGBA\"},\"selection_glyph\":null,\"view\":{\"id\":\"e3d64fe7-0446-4aa7-9b1b-22d658000b44\",\"type\":\"CDSView\"}},\"id\":\"1e14ceb0-502a-49fa-9e9c-c2579d91f34e\",\"type\":\"GlyphRenderer\"},{\"attributes\":{},\"id\":\"24760ca4-cc3d-41c6-951d-a0c0b41b26a4\",\"type\":\"WheelZoomTool\"},{\"attributes\":{\"below\":[{\"id\":\"0ca76cd9-1319-4383-92de-760e650e9431\",\"type\":\"LinearAxis\"}],\"left\":[{\"id\":\"5389fb5c-3146-4611-96ea-931d69651c1f\",\"type\":\"LinearAxis\"}],\"renderers\":[{\"id\":\"0ca76cd9-1319-4383-92de-760e650e9431\",\"type\":\"LinearAxis\"},{\"id\":\"4a476ce1-7470-4439-a975-a78dced101f1\",\"type\":\"Grid\"},{\"id\":\"5389fb5c-3146-4611-96ea-931d69651c1f\",\"type\":\"LinearAxis\"},{\"id\":\"6f4ae9ff-ebe9-4205-b3ea-4d78cdcd26e4\",\"type\":\"Grid\"},{\"id\":\"1ad8cae3-d656-402a-b093-b4bb4bcf3353\",\"type\":\"BoxAnnotation\"},{\"id\":\"1e14ceb0-502a-49fa-9e9c-c2579d91f34e\",\"type\":\"GlyphRenderer\"}],\"title\":{\"id\":\"e5048161-3937-4ff8-9eca-be39ee796289\",\"type\":\"Title\"},\"toolbar\":{\"id\":\"1f76a6f3-49f2-4d12-9251-1e49324ea617\",\"type\":\"Toolbar\"},\"x_range\":{\"id\":\"8720c68d-7d7c-4bb9-a75c-b4fbae5c3a2c\",\"type\":\"Range1d\"},\"x_scale\":{\"id\":\"ff3302a5-3268-4876-acf9-4ceea8ab30ec\",\"type\":\"LinearScale\"},\"y_range\":{\"id\":\"a79f3517-092f-4a04-817a-af37d62eae77\",\"type\":\"Range1d\"},\"y_scale\":{\"id\":\"a07323d5-1a94-43a7-b134-78c882e42ef6\",\"type\":\"LinearScale\"}},\"id\":\"e871ff6a-daea-41b4-85e2-7a957009d8b8\",\"subtype\":\"Figure\",\"type\":\"Plot\"},{\"attributes\":{},\"id\":\"6bedcfde-d9c7-41e7-9ac5-3b3a73e7bbd4\",\"type\":\"BasicTicker\"},{\"attributes\":{\"overlay\":{\"id\":\"1ad8cae3-d656-402a-b093-b4bb4bcf3353\",\"type\":\"BoxAnnotation\"}},\"id\":\"abea48a2-f44a-4dca-8038-5a06c86d1ddb\",\"type\":\"BoxZoomTool\"},{\"attributes\":{\"active_drag\":\"auto\",\"active_inspect\":\"auto\",\"active_scroll\":\"auto\",\"active_tap\":\"auto\",\"tools\":[{\"id\":\"2c4086cd-269c-41f5-8298-78a73a86aa57\",\"type\":\"PanTool\"},{\"id\":\"24760ca4-cc3d-41c6-951d-a0c0b41b26a4\",\"type\":\"WheelZoomTool\"},{\"id\":\"abea48a2-f44a-4dca-8038-5a06c86d1ddb\",\"type\":\"BoxZoomTool\"},{\"id\":\"201ef3c4-fedf-4006-81eb-a55547431060\",\"type\":\"SaveTool\"},{\"id\":\"17eab0a7-c972-4ae7-be3e-c0b9efe54bdf\",\"type\":\"ResetTool\"},{\"id\":\"f82eab75-6a45-491f-b568-d21b2d4cabeb\",\"type\":\"HelpTool\"}]},\"id\":\"1f76a6f3-49f2-4d12-9251-1e49324ea617\",\"type\":\"Toolbar\"},{\"attributes\":{},\"id\":\"201ef3c4-fedf-4006-81eb-a55547431060\",\"type\":\"SaveTool\"},{\"attributes\":{},\"id\":\"9f15fd1f-93e1-487b-9276-a57d2aeffb8a\",\"type\":\"BasicTickFormatter\"},{\"attributes\":{},\"id\":\"17eab0a7-c972-4ae7-be3e-c0b9efe54bdf\",\"type\":\"ResetTool\"}],\"root_ids\":[\"e871ff6a-daea-41b4-85e2-7a957009d8b8\"]},\"title\":\"Bokeh Application\",\"version\":\"0.12.14\"}};\n",
       "  var render_items = [{\"docid\":\"f56f03bb-fba1-4612-b952-bb5cfdab4d80\",\"elementid\":\"2f01b5d9-31b4-480d-98b3-561a4481105b\",\"modelid\":\"e871ff6a-daea-41b4-85e2-7a957009d8b8\"}];\n",
       "  root.Bokeh.embed.embed_items_notebook(docs_json, render_items);\n",
       "\n",
       "  }\n",
       "  if (root.Bokeh !== undefined) {\n",
       "    embed_document(root);\n",
       "  } else {\n",
       "    var attempts = 0;\n",
       "    var timer = setInterval(function(root) {\n",
       "      if (root.Bokeh !== undefined) {\n",
       "        embed_document(root);\n",
       "        clearInterval(timer);\n",
       "      }\n",
       "      attempts++;\n",
       "      if (attempts > 100) {\n",
       "        console.log(\"Bokeh: ERROR: Unable to run BokehJS code because BokehJS library is missing\")\n",
       "        clearInterval(timer);\n",
       "      }\n",
       "    }, 10, root)\n",
       "  }\n",
       "})(window);"
      ],
      "application/vnd.bokehjs_exec.v0+json": ""
     },
     "metadata": {
      "application/vnd.bokehjs_exec.v0+json": {
       "id": "e871ff6a-daea-41b4-85e2-7a957009d8b8"
      }
     },
     "output_type": "display_data"
    }
   ],
   "source": [
    "from __future__ import division\n",
    "import numpy as np\n",
    "\n",
    "# set up some data\n",
    "N = 20\n",
    "img = np.empty((N,N), dtype=np.uint32)\n",
    "view = img.view(dtype=np.uint8).reshape((N, N, 4))\n",
    "for i in range(N):\n",
    "    for j in range(N):\n",
    "        view[i, j, 0] = int(i/N*255) # red\n",
    "        view[i, j, 1] = 158          # green\n",
    "        view[i, j, 2] = int(j/N*255) # blue\n",
    "        view[i, j, 3] = 255          # alpha\n",
    "        \n",
    "# create a new plot (with a fixed range) using figure\n",
    "p = figure(x_range=[0,10], y_range=[0,10])\n",
    "\n",
    "# add an RGBA image renderer\n",
    "p.image_rgba(image=[img], x=[0], y=[0], dw=[10], dh=[10])\n",
    "\n",
    "show(p) # show the results"
   ]
  },
  {
   "cell_type": "markdown",
   "metadata": {},
   "source": [
    "# Other Kinds of Glyphs\n",
    "\n",
    "Bokeh supports many other kinds of glyphs. You can click on the User Guide links below to see how to create plots with these glyphs using the [`bokeh.plotting`](http://bokeh.pydata.org/en/latest/docs/user_guide/plotting.html) interface.\n",
    "\n",
    "* [Rectangles and Ovals](http://bokeh.pydata.org/en/latest/docs/user_guide/plotting.html#rectangles-and-ovals)\n",
    "* [Segments and Rays](http://bokeh.pydata.org/en/latest/docs/user_guide/plotting.html#segments-and-rays)\n",
    "* [Wedges and Arcs](http://bokeh.pydata.org/en/latest/docs/user_guide/plotting.html#wedges-and-arcs)\n",
    "* [Specialized Curves](http://bokeh.pydata.org/en/latest/docs/user_guide/plotting.html#specialized-curves)\n"
   ]
  },
  {
   "cell_type": "code",
   "execution_count": 18,
   "metadata": {},
   "outputs": [
    {
     "data": {
      "text/html": [
       "\n",
       "<div class=\"bk-root\">\n",
       "    <div class=\"bk-plotdiv\" id=\"a4af7508-7bf5-4467-9bce-2c8fd4d21b27\"></div>\n",
       "</div>"
      ]
     },
     "metadata": {},
     "output_type": "display_data"
    },
    {
     "data": {
      "application/javascript": [
       "(function(root) {\n",
       "  function embed_document(root) {\n",
       "    \n",
       "  var docs_json = {\"fe5b174a-7cd6-4cd2-bada-a18bf5520b21\":{\"roots\":{\"references\":[{\"attributes\":{},\"id\":\"04842f72-712b-4ac6-8b02-823ad5588f3f\",\"type\":\"ResetTool\"},{\"attributes\":{\"fill_color\":{\"value\":\"blue\"},\"line_color\":{\"value\":\"blue\"},\"top\":{\"field\":\"top\"},\"width\":{\"value\":0.65},\"x\":{\"field\":\"x\"}},\"id\":\"fe1063c9-a671-4a04-8f8a-b6c2d582acbe\",\"type\":\"VBar\"},{\"attributes\":{\"callback\":null},\"id\":\"430e6b19-be18-4f1b-9e37-cd4fcb774fb5\",\"type\":\"DataRange1d\"},{\"attributes\":{},\"id\":\"c949b299-866f-46cf-b305-b7e3817ca27d\",\"type\":\"LinearScale\"},{\"attributes\":{},\"id\":\"50461281-4173-4618-9034-ec84469f4c28\",\"type\":\"LinearScale\"},{\"attributes\":{\"overlay\":{\"id\":\"08528655-7b57-440b-8f5f-c42999efabde\",\"type\":\"BoxAnnotation\"}},\"id\":\"fa900f5b-e096-4d58-8f5d-780dcac4a9d9\",\"type\":\"BoxZoomTool\"},{\"attributes\":{},\"id\":\"821191ff-d567-4d66-9012-f62ae911d58c\",\"type\":\"BasicTickFormatter\"},{\"attributes\":{\"fill_alpha\":{\"value\":0.1},\"fill_color\":{\"value\":\"#1f77b4\"},\"line_alpha\":{\"value\":0.1},\"line_color\":{\"value\":\"#1f77b4\"},\"top\":{\"field\":\"top\"},\"width\":{\"value\":0.65},\"x\":{\"field\":\"x\"}},\"id\":\"aed3380d-b031-4e06-a252-644a47b3dcd8\",\"type\":\"VBar\"},{\"attributes\":{\"dimension\":1,\"plot\":{\"id\":\"e34fbc42-f8aa-482f-99f9-55a400f99c09\",\"subtype\":\"Figure\",\"type\":\"Plot\"},\"ticker\":{\"id\":\"d43f6f33-2f0f-4860-9ea0-81af0ae0c50f\",\"type\":\"BasicTicker\"}},\"id\":\"75b50c0a-b57e-488a-8cde-26261e1c41e1\",\"type\":\"Grid\"},{\"attributes\":{},\"id\":\"d43f6f33-2f0f-4860-9ea0-81af0ae0c50f\",\"type\":\"BasicTicker\"},{\"attributes\":{\"plot\":null,\"text\":\"\"},\"id\":\"19eb1046-9e93-4b9b-b2b8-4ba2c9414066\",\"type\":\"Title\"},{\"attributes\":{\"formatter\":{\"id\":\"6a04d5a1-4b40-47a0-8792-ebacb437ecdf\",\"type\":\"BasicTickFormatter\"},\"plot\":{\"id\":\"e34fbc42-f8aa-482f-99f9-55a400f99c09\",\"subtype\":\"Figure\",\"type\":\"Plot\"},\"ticker\":{\"id\":\"d43f6f33-2f0f-4860-9ea0-81af0ae0c50f\",\"type\":\"BasicTicker\"}},\"id\":\"03e45e6d-5511-4b48-908b-37d3551af6cc\",\"type\":\"LinearAxis\"},{\"attributes\":{},\"id\":\"cff084f6-c77f-4723-aa6f-e6dda66752ee\",\"type\":\"BasicTicker\"},{\"attributes\":{},\"id\":\"be763732-6816-4c00-9b4c-f81c47593e68\",\"type\":\"SaveTool\"},{\"attributes\":{\"bottom_units\":\"screen\",\"fill_alpha\":{\"value\":0.5},\"fill_color\":{\"value\":\"lightgrey\"},\"left_units\":\"screen\",\"level\":\"overlay\",\"line_alpha\":{\"value\":1.0},\"line_color\":{\"value\":\"black\"},\"line_dash\":[4,4],\"line_width\":{\"value\":2},\"plot\":null,\"render_mode\":\"css\",\"right_units\":\"screen\",\"top_units\":\"screen\"},\"id\":\"08528655-7b57-440b-8f5f-c42999efabde\",\"type\":\"BoxAnnotation\"},{\"attributes\":{},\"id\":\"6a04d5a1-4b40-47a0-8792-ebacb437ecdf\",\"type\":\"BasicTickFormatter\"},{\"attributes\":{\"callback\":null,\"column_names\":[\"x\",\"top\"],\"data\":{\"top\":[1.2,2.5,3.7],\"x\":[1,2,3]}},\"id\":\"4f5a3b9d-e6eb-48c7-bc10-a3c6a61dac09\",\"type\":\"ColumnDataSource\"},{\"attributes\":{},\"id\":\"bb3c08cf-8907-4002-aa6d-d40f10cbae4b\",\"type\":\"HelpTool\"},{\"attributes\":{\"below\":[{\"id\":\"00b64b74-c330-4e75-8f67-69db4e426d9a\",\"type\":\"LinearAxis\"}],\"left\":[{\"id\":\"03e45e6d-5511-4b48-908b-37d3551af6cc\",\"type\":\"LinearAxis\"}],\"plot_height\":400,\"plot_width\":400,\"renderers\":[{\"id\":\"00b64b74-c330-4e75-8f67-69db4e426d9a\",\"type\":\"LinearAxis\"},{\"id\":\"f509c592-082b-4adf-981a-1798a902a485\",\"type\":\"Grid\"},{\"id\":\"03e45e6d-5511-4b48-908b-37d3551af6cc\",\"type\":\"LinearAxis\"},{\"id\":\"75b50c0a-b57e-488a-8cde-26261e1c41e1\",\"type\":\"Grid\"},{\"id\":\"08528655-7b57-440b-8f5f-c42999efabde\",\"type\":\"BoxAnnotation\"},{\"id\":\"33aa4133-b572-4751-8ddc-2c5853a32cb6\",\"type\":\"GlyphRenderer\"}],\"title\":{\"id\":\"19eb1046-9e93-4b9b-b2b8-4ba2c9414066\",\"type\":\"Title\"},\"toolbar\":{\"id\":\"592e98e2-1c7b-4c30-83bf-4801b72d2667\",\"type\":\"Toolbar\"},\"x_range\":{\"id\":\"63ac1ce7-3979-4950-8665-50d3115bb955\",\"type\":\"DataRange1d\"},\"x_scale\":{\"id\":\"50461281-4173-4618-9034-ec84469f4c28\",\"type\":\"LinearScale\"},\"y_range\":{\"id\":\"430e6b19-be18-4f1b-9e37-cd4fcb774fb5\",\"type\":\"DataRange1d\"},\"y_scale\":{\"id\":\"c949b299-866f-46cf-b305-b7e3817ca27d\",\"type\":\"LinearScale\"}},\"id\":\"e34fbc42-f8aa-482f-99f9-55a400f99c09\",\"subtype\":\"Figure\",\"type\":\"Plot\"},{\"attributes\":{},\"id\":\"5908c18e-71b2-4571-9c36-28794d689ef8\",\"type\":\"WheelZoomTool\"},{\"attributes\":{\"callback\":null},\"id\":\"63ac1ce7-3979-4950-8665-50d3115bb955\",\"type\":\"DataRange1d\"},{\"attributes\":{\"data_source\":{\"id\":\"4f5a3b9d-e6eb-48c7-bc10-a3c6a61dac09\",\"type\":\"ColumnDataSource\"},\"glyph\":{\"id\":\"fe1063c9-a671-4a04-8f8a-b6c2d582acbe\",\"type\":\"VBar\"},\"hover_glyph\":null,\"muted_glyph\":null,\"nonselection_glyph\":{\"id\":\"aed3380d-b031-4e06-a252-644a47b3dcd8\",\"type\":\"VBar\"},\"selection_glyph\":null,\"view\":{\"id\":\"03bc5103-6705-407c-a0b3-bf7ae7e776a5\",\"type\":\"CDSView\"}},\"id\":\"33aa4133-b572-4751-8ddc-2c5853a32cb6\",\"type\":\"GlyphRenderer\"},{\"attributes\":{\"active_drag\":\"auto\",\"active_inspect\":\"auto\",\"active_scroll\":\"auto\",\"active_tap\":\"auto\",\"tools\":[{\"id\":\"7103b278-f87c-4b38-aabf-cef56f595c54\",\"type\":\"PanTool\"},{\"id\":\"5908c18e-71b2-4571-9c36-28794d689ef8\",\"type\":\"WheelZoomTool\"},{\"id\":\"fa900f5b-e096-4d58-8f5d-780dcac4a9d9\",\"type\":\"BoxZoomTool\"},{\"id\":\"be763732-6816-4c00-9b4c-f81c47593e68\",\"type\":\"SaveTool\"},{\"id\":\"04842f72-712b-4ac6-8b02-823ad5588f3f\",\"type\":\"ResetTool\"},{\"id\":\"bb3c08cf-8907-4002-aa6d-d40f10cbae4b\",\"type\":\"HelpTool\"}]},\"id\":\"592e98e2-1c7b-4c30-83bf-4801b72d2667\",\"type\":\"Toolbar\"},{\"attributes\":{},\"id\":\"7103b278-f87c-4b38-aabf-cef56f595c54\",\"type\":\"PanTool\"},{\"attributes\":{\"formatter\":{\"id\":\"821191ff-d567-4d66-9012-f62ae911d58c\",\"type\":\"BasicTickFormatter\"},\"plot\":{\"id\":\"e34fbc42-f8aa-482f-99f9-55a400f99c09\",\"subtype\":\"Figure\",\"type\":\"Plot\"},\"ticker\":{\"id\":\"cff084f6-c77f-4723-aa6f-e6dda66752ee\",\"type\":\"BasicTicker\"}},\"id\":\"00b64b74-c330-4e75-8f67-69db4e426d9a\",\"type\":\"LinearAxis\"},{\"attributes\":{\"source\":{\"id\":\"4f5a3b9d-e6eb-48c7-bc10-a3c6a61dac09\",\"type\":\"ColumnDataSource\"}},\"id\":\"03bc5103-6705-407c-a0b3-bf7ae7e776a5\",\"type\":\"CDSView\"},{\"attributes\":{\"plot\":{\"id\":\"e34fbc42-f8aa-482f-99f9-55a400f99c09\",\"subtype\":\"Figure\",\"type\":\"Plot\"},\"ticker\":{\"id\":\"cff084f6-c77f-4723-aa6f-e6dda66752ee\",\"type\":\"BasicTicker\"}},\"id\":\"f509c592-082b-4adf-981a-1798a902a485\",\"type\":\"Grid\"}],\"root_ids\":[\"e34fbc42-f8aa-482f-99f9-55a400f99c09\"]},\"title\":\"Bokeh Application\",\"version\":\"0.12.14\"}};\n",
       "  var render_items = [{\"docid\":\"fe5b174a-7cd6-4cd2-bada-a18bf5520b21\",\"elementid\":\"a4af7508-7bf5-4467-9bce-2c8fd4d21b27\",\"modelid\":\"e34fbc42-f8aa-482f-99f9-55a400f99c09\"}];\n",
       "  root.Bokeh.embed.embed_items_notebook(docs_json, render_items);\n",
       "\n",
       "  }\n",
       "  if (root.Bokeh !== undefined) {\n",
       "    embed_document(root);\n",
       "  } else {\n",
       "    var attempts = 0;\n",
       "    var timer = setInterval(function(root) {\n",
       "      if (root.Bokeh !== undefined) {\n",
       "        embed_document(root);\n",
       "        clearInterval(timer);\n",
       "      }\n",
       "      attempts++;\n",
       "      if (attempts > 100) {\n",
       "        console.log(\"Bokeh: ERROR: Unable to run BokehJS code because BokehJS library is missing\")\n",
       "        clearInterval(timer);\n",
       "      }\n",
       "    }, 10, root)\n",
       "  }\n",
       "})(window);"
      ],
      "application/vnd.bokehjs_exec.v0+json": ""
     },
     "metadata": {
      "application/vnd.bokehjs_exec.v0+json": {
       "id": "e34fbc42-f8aa-482f-99f9-55a400f99c09"
      }
     },
     "output_type": "display_data"
    }
   ],
   "source": [
    "# EXERCISE: Plot some of the other glyph types, following the examples in the User Guide. \n",
    "\n",
    "p = figure(plot_width=400, plot_height=400)\n",
    "p.vbar(x=[1, 2, 3], width=0.65, bottom=0,\n",
    "       top=[1.2, 2.5, 3.7], color=\"blue\")\n",
    "\n",
    "show(p)\n",
    "\n",
    "\n",
    "\n"
   ]
  },
  {
   "cell_type": "markdown",
   "metadata": {},
   "source": [
    "# Plots with Multiple Glyphs \n",
    "\n",
    "It is possible to combine more than one glyph on a single figure. You just need to call multiple glyph methods on one figure object:"
   ]
  },
  {
   "cell_type": "code",
   "execution_count": 19,
   "metadata": {},
   "outputs": [
    {
     "data": {
      "text/html": [
       "\n",
       "<div class=\"bk-root\">\n",
       "    <div class=\"bk-plotdiv\" id=\"42086514-6223-47b8-aa51-140c49a01e0a\"></div>\n",
       "</div>"
      ]
     },
     "metadata": {},
     "output_type": "display_data"
    },
    {
     "data": {
      "application/javascript": [
       "(function(root) {\n",
       "  function embed_document(root) {\n",
       "    \n",
       "  var docs_json = {\"c2adcb44-c5a1-4880-b5d7-7d0c86f8dbc2\":{\"roots\":{\"references\":[{\"attributes\":{\"bottom_units\":\"screen\",\"fill_alpha\":{\"value\":0.5},\"fill_color\":{\"value\":\"lightgrey\"},\"left_units\":\"screen\",\"level\":\"overlay\",\"line_alpha\":{\"value\":1.0},\"line_color\":{\"value\":\"black\"},\"line_dash\":[4,4],\"line_width\":{\"value\":2},\"plot\":null,\"render_mode\":\"css\",\"right_units\":\"screen\",\"top_units\":\"screen\"},\"id\":\"9f60dfda-9a61-4a79-af1e-64df44efd632\",\"type\":\"BoxAnnotation\"},{\"attributes\":{},\"id\":\"62daa74c-b6f4-4515-bc30-106c63a780b2\",\"type\":\"PanTool\"},{\"attributes\":{},\"id\":\"0151b48c-db02-4930-8db9-987d5736175f\",\"type\":\"WheelZoomTool\"},{\"attributes\":{\"plot\":null,\"text\":\"\"},\"id\":\"08d81b4e-6d77-4f08-9c87-2ddd0965c7df\",\"type\":\"Title\"},{\"attributes\":{\"overlay\":{\"id\":\"9f60dfda-9a61-4a79-af1e-64df44efd632\",\"type\":\"BoxAnnotation\"}},\"id\":\"8d9d1a26-d3a1-435e-b40c-696cf57e678e\",\"type\":\"BoxZoomTool\"},{\"attributes\":{},\"id\":\"03adecbc-1daf-4ee7-a675-e624f4847ec2\",\"type\":\"BasicTicker\"},{\"attributes\":{},\"id\":\"5582b133-787b-4cf8-9ff0-f40aad74ff6f\",\"type\":\"SaveTool\"},{\"attributes\":{},\"id\":\"ca066f40-01ac-4960-8888-968545dc5bd9\",\"type\":\"BasicTicker\"},{\"attributes\":{},\"id\":\"e70db790-9b1d-4a32-8c41-0628437a91d5\",\"type\":\"ResetTool\"},{\"attributes\":{},\"id\":\"4faeed6e-92e9-4068-8f6f-74b943a0b6a6\",\"type\":\"HelpTool\"},{\"attributes\":{},\"id\":\"9cd5521f-89c8-4639-822b-326c1f0eec31\",\"type\":\"BasicTickFormatter\"},{\"attributes\":{\"line_alpha\":0.1,\"line_color\":\"#1f77b4\",\"line_width\":2,\"x\":{\"field\":\"x\"},\"y\":{\"field\":\"y\"}},\"id\":\"8726d520-f438-49af-8dba-a4608755a030\",\"type\":\"Line\"},{\"attributes\":{\"callback\":null,\"column_names\":[\"x\",\"y\"],\"data\":{\"x\":[1,2,3,4,5],\"y\":[6,7,8,7,3]}},\"id\":\"28b41bb5-f566-471b-b31d-79376e4fdf1b\",\"type\":\"ColumnDataSource\"},{\"attributes\":{\"source\":{\"id\":\"28b41bb5-f566-471b-b31d-79376e4fdf1b\",\"type\":\"ColumnDataSource\"}},\"id\":\"a7021373-412f-4fc3-be43-a1c992f31bd8\",\"type\":\"CDSView\"},{\"attributes\":{\"fill_alpha\":{\"value\":0.1},\"fill_color\":{\"value\":\"#1f77b4\"},\"line_alpha\":{\"value\":0.1},\"line_color\":{\"value\":\"#1f77b4\"},\"size\":{\"units\":\"screen\",\"value\":8},\"x\":{\"field\":\"x\"},\"y\":{\"field\":\"y\"}},\"id\":\"b34bb048-451e-45d4-8ffa-b6c9c1d01fe9\",\"type\":\"Circle\"},{\"attributes\":{\"data_source\":{\"id\":\"28b41bb5-f566-471b-b31d-79376e4fdf1b\",\"type\":\"ColumnDataSource\"},\"glyph\":{\"id\":\"9d7d4cb0-c738-4cee-9dc7-70e530afc8ab\",\"type\":\"Circle\"},\"hover_glyph\":null,\"muted_glyph\":null,\"nonselection_glyph\":{\"id\":\"b34bb048-451e-45d4-8ffa-b6c9c1d01fe9\",\"type\":\"Circle\"},\"selection_glyph\":null,\"view\":{\"id\":\"a7021373-412f-4fc3-be43-a1c992f31bd8\",\"type\":\"CDSView\"}},\"id\":\"2549ee23-4ae0-4155-ad8a-87c45a624bd6\",\"type\":\"GlyphRenderer\"},{\"attributes\":{\"active_drag\":\"auto\",\"active_inspect\":\"auto\",\"active_scroll\":\"auto\",\"active_tap\":\"auto\",\"tools\":[{\"id\":\"62daa74c-b6f4-4515-bc30-106c63a780b2\",\"type\":\"PanTool\"},{\"id\":\"0151b48c-db02-4930-8db9-987d5736175f\",\"type\":\"WheelZoomTool\"},{\"id\":\"8d9d1a26-d3a1-435e-b40c-696cf57e678e\",\"type\":\"BoxZoomTool\"},{\"id\":\"5582b133-787b-4cf8-9ff0-f40aad74ff6f\",\"type\":\"SaveTool\"},{\"id\":\"e70db790-9b1d-4a32-8c41-0628437a91d5\",\"type\":\"ResetTool\"},{\"id\":\"4faeed6e-92e9-4068-8f6f-74b943a0b6a6\",\"type\":\"HelpTool\"}]},\"id\":\"5ed65f8e-da6f-4324-99a0-9408e345dd95\",\"type\":\"Toolbar\"},{\"attributes\":{\"plot\":{\"id\":\"483bc105-f1b2-47fd-a4ca-022ff7adcbf4\",\"subtype\":\"Figure\",\"type\":\"Plot\"},\"ticker\":{\"id\":\"03adecbc-1daf-4ee7-a675-e624f4847ec2\",\"type\":\"BasicTicker\"}},\"id\":\"549b9d7a-c3c9-410a-b68a-04dac09c1327\",\"type\":\"Grid\"},{\"attributes\":{},\"id\":\"fe9a52f6-38aa-4b00-870a-cbf99ebf96cb\",\"type\":\"LinearScale\"},{\"attributes\":{},\"id\":\"3c52ab0c-431d-4c10-9100-93ec6baea451\",\"type\":\"LinearScale\"},{\"attributes\":{\"dimension\":1,\"plot\":{\"id\":\"483bc105-f1b2-47fd-a4ca-022ff7adcbf4\",\"subtype\":\"Figure\",\"type\":\"Plot\"},\"ticker\":{\"id\":\"ca066f40-01ac-4960-8888-968545dc5bd9\",\"type\":\"BasicTicker\"}},\"id\":\"46f2c424-2337-4903-a720-1d365e2b406d\",\"type\":\"Grid\"},{\"attributes\":{\"formatter\":{\"id\":\"fd5fc7bc-5dae-47af-8575-b82c47ca278f\",\"type\":\"BasicTickFormatter\"},\"plot\":{\"id\":\"483bc105-f1b2-47fd-a4ca-022ff7adcbf4\",\"subtype\":\"Figure\",\"type\":\"Plot\"},\"ticker\":{\"id\":\"ca066f40-01ac-4960-8888-968545dc5bd9\",\"type\":\"BasicTicker\"}},\"id\":\"6d17f6d4-d748-43b7-a338-53ae923330a0\",\"type\":\"LinearAxis\"},{\"attributes\":{},\"id\":\"fd5fc7bc-5dae-47af-8575-b82c47ca278f\",\"type\":\"BasicTickFormatter\"},{\"attributes\":{\"fill_color\":{\"value\":\"white\"},\"line_color\":{\"value\":\"#1f77b4\"},\"size\":{\"units\":\"screen\",\"value\":8},\"x\":{\"field\":\"x\"},\"y\":{\"field\":\"y\"}},\"id\":\"9d7d4cb0-c738-4cee-9dc7-70e530afc8ab\",\"type\":\"Circle\"},{\"attributes\":{\"source\":{\"id\":\"e337f222-64b6-48f8-a5a2-ce194d547b9e\",\"type\":\"ColumnDataSource\"}},\"id\":\"8d299d17-6f93-4cfb-b80c-b27eaee6ae1b\",\"type\":\"CDSView\"},{\"attributes\":{\"callback\":null},\"id\":\"815ad93a-92e6-489d-b19e-b8e2c78b75dc\",\"type\":\"DataRange1d\"},{\"attributes\":{\"below\":[{\"id\":\"76722afc-76ca-40e7-8183-56896ff9acc1\",\"type\":\"LinearAxis\"}],\"left\":[{\"id\":\"6d17f6d4-d748-43b7-a338-53ae923330a0\",\"type\":\"LinearAxis\"}],\"plot_height\":400,\"plot_width\":400,\"renderers\":[{\"id\":\"76722afc-76ca-40e7-8183-56896ff9acc1\",\"type\":\"LinearAxis\"},{\"id\":\"549b9d7a-c3c9-410a-b68a-04dac09c1327\",\"type\":\"Grid\"},{\"id\":\"6d17f6d4-d748-43b7-a338-53ae923330a0\",\"type\":\"LinearAxis\"},{\"id\":\"46f2c424-2337-4903-a720-1d365e2b406d\",\"type\":\"Grid\"},{\"id\":\"9f60dfda-9a61-4a79-af1e-64df44efd632\",\"type\":\"BoxAnnotation\"},{\"id\":\"35e6d329-6033-408c-b22d-c55b37170836\",\"type\":\"GlyphRenderer\"},{\"id\":\"2549ee23-4ae0-4155-ad8a-87c45a624bd6\",\"type\":\"GlyphRenderer\"}],\"title\":{\"id\":\"08d81b4e-6d77-4f08-9c87-2ddd0965c7df\",\"type\":\"Title\"},\"toolbar\":{\"id\":\"5ed65f8e-da6f-4324-99a0-9408e345dd95\",\"type\":\"Toolbar\"},\"x_range\":{\"id\":\"1d7b0d41-d35a-48ed-960f-08223c75706b\",\"type\":\"DataRange1d\"},\"x_scale\":{\"id\":\"fe9a52f6-38aa-4b00-870a-cbf99ebf96cb\",\"type\":\"LinearScale\"},\"y_range\":{\"id\":\"815ad93a-92e6-489d-b19e-b8e2c78b75dc\",\"type\":\"DataRange1d\"},\"y_scale\":{\"id\":\"3c52ab0c-431d-4c10-9100-93ec6baea451\",\"type\":\"LinearScale\"}},\"id\":\"483bc105-f1b2-47fd-a4ca-022ff7adcbf4\",\"subtype\":\"Figure\",\"type\":\"Plot\"},{\"attributes\":{\"callback\":null,\"column_names\":[\"x\",\"y\"],\"data\":{\"x\":[1,2,3,4,5],\"y\":[6,7,8,7,3]}},\"id\":\"e337f222-64b6-48f8-a5a2-ce194d547b9e\",\"type\":\"ColumnDataSource\"},{\"attributes\":{\"formatter\":{\"id\":\"9cd5521f-89c8-4639-822b-326c1f0eec31\",\"type\":\"BasicTickFormatter\"},\"plot\":{\"id\":\"483bc105-f1b2-47fd-a4ca-022ff7adcbf4\",\"subtype\":\"Figure\",\"type\":\"Plot\"},\"ticker\":{\"id\":\"03adecbc-1daf-4ee7-a675-e624f4847ec2\",\"type\":\"BasicTicker\"}},\"id\":\"76722afc-76ca-40e7-8183-56896ff9acc1\",\"type\":\"LinearAxis\"},{\"attributes\":{\"callback\":null},\"id\":\"1d7b0d41-d35a-48ed-960f-08223c75706b\",\"type\":\"DataRange1d\"},{\"attributes\":{\"line_color\":\"#1f77b4\",\"line_width\":2,\"x\":{\"field\":\"x\"},\"y\":{\"field\":\"y\"}},\"id\":\"633b20ba-963d-4924-946a-de37be8e8fa5\",\"type\":\"Line\"},{\"attributes\":{\"data_source\":{\"id\":\"e337f222-64b6-48f8-a5a2-ce194d547b9e\",\"type\":\"ColumnDataSource\"},\"glyph\":{\"id\":\"633b20ba-963d-4924-946a-de37be8e8fa5\",\"type\":\"Line\"},\"hover_glyph\":null,\"muted_glyph\":null,\"nonselection_glyph\":{\"id\":\"8726d520-f438-49af-8dba-a4608755a030\",\"type\":\"Line\"},\"selection_glyph\":null,\"view\":{\"id\":\"8d299d17-6f93-4cfb-b80c-b27eaee6ae1b\",\"type\":\"CDSView\"}},\"id\":\"35e6d329-6033-408c-b22d-c55b37170836\",\"type\":\"GlyphRenderer\"}],\"root_ids\":[\"483bc105-f1b2-47fd-a4ca-022ff7adcbf4\"]},\"title\":\"Bokeh Application\",\"version\":\"0.12.14\"}};\n",
       "  var render_items = [{\"docid\":\"c2adcb44-c5a1-4880-b5d7-7d0c86f8dbc2\",\"elementid\":\"42086514-6223-47b8-aa51-140c49a01e0a\",\"modelid\":\"483bc105-f1b2-47fd-a4ca-022ff7adcbf4\"}];\n",
       "  root.Bokeh.embed.embed_items_notebook(docs_json, render_items);\n",
       "\n",
       "  }\n",
       "  if (root.Bokeh !== undefined) {\n",
       "    embed_document(root);\n",
       "  } else {\n",
       "    var attempts = 0;\n",
       "    var timer = setInterval(function(root) {\n",
       "      if (root.Bokeh !== undefined) {\n",
       "        embed_document(root);\n",
       "        clearInterval(timer);\n",
       "      }\n",
       "      attempts++;\n",
       "      if (attempts > 100) {\n",
       "        console.log(\"Bokeh: ERROR: Unable to run BokehJS code because BokehJS library is missing\")\n",
       "        clearInterval(timer);\n",
       "      }\n",
       "    }, 10, root)\n",
       "  }\n",
       "})(window);"
      ],
      "application/vnd.bokehjs_exec.v0+json": ""
     },
     "metadata": {
      "application/vnd.bokehjs_exec.v0+json": {
       "id": "483bc105-f1b2-47fd-a4ca-022ff7adcbf4"
      }
     },
     "output_type": "display_data"
    }
   ],
   "source": [
    "# set up some data\n",
    "x = [1, 2, 3, 4, 5]\n",
    "y = [6, 7, 8, 7, 3]\n",
    "\n",
    "# create a new plot with figure\n",
    "p = figure(plot_width=400, plot_height=400)\n",
    "\n",
    "# add both a line and circles on the same plot\n",
    "p.line(x, y, line_width=2)\n",
    "p.circle(x, y, fill_color=\"white\", size=8)\n",
    "\n",
    "show(p) # show the results"
   ]
  },
  {
   "cell_type": "code",
   "execution_count": 20,
   "metadata": {},
   "outputs": [
    {
     "data": {
      "text/html": [
       "\n",
       "<div class=\"bk-root\">\n",
       "    <div class=\"bk-plotdiv\" id=\"93ede1ba-53df-4bb8-8e7c-1a6a397a6982\"></div>\n",
       "</div>"
      ]
     },
     "metadata": {},
     "output_type": "display_data"
    },
    {
     "data": {
      "application/javascript": [
       "(function(root) {\n",
       "  function embed_document(root) {\n",
       "    \n",
       "  var docs_json = {\"68ae8fe7-184c-4cb3-b5cc-a747a88a414d\":{\"roots\":{\"references\":[{\"attributes\":{\"data_source\":{\"id\":\"57c8ef96-6497-4aa0-9982-7240d54bd7ae\",\"type\":\"ColumnDataSource\"},\"glyph\":{\"id\":\"c3b0905f-6f0d-4519-b4f0-c59f079945b9\",\"type\":\"Line\"},\"hover_glyph\":null,\"muted_glyph\":null,\"nonselection_glyph\":{\"id\":\"9263e506-6fa0-4bed-bb6b-a514715dd53c\",\"type\":\"Line\"},\"selection_glyph\":null,\"view\":{\"id\":\"ba42e7b3-0718-4503-a79c-a1f655ea0f94\",\"type\":\"CDSView\"}},\"id\":\"78df6f6c-1ae4-436a-a674-475837f2b590\",\"type\":\"GlyphRenderer\"},{\"attributes\":{},\"id\":\"f20899f6-7cd6-4c83-ad51-5af75479756f\",\"type\":\"BasicTickFormatter\"},{\"attributes\":{\"overlay\":{\"id\":\"1c8ca728-faa5-45d6-9faf-9b24a254f016\",\"type\":\"BoxAnnotation\"}},\"id\":\"47c5c26e-f422-41d8-a1cb-48dcb5fb6ef0\",\"type\":\"BoxZoomTool\"},{\"attributes\":{},\"id\":\"0ee77e16-5e0f-4b3a-b36a-69bcba5cd9ff\",\"type\":\"BasicTickFormatter\"},{\"attributes\":{\"source\":{\"id\":\"7ad4003f-d0ad-4317-ae7d-9be4a0c62b38\",\"type\":\"ColumnDataSource\"}},\"id\":\"b97e1985-f253-4daa-b44f-0082b01dee07\",\"type\":\"CDSView\"},{\"attributes\":{\"callback\":null,\"column_names\":[\"x\",\"y\"],\"data\":{\"x\":[1,2,3,4,5],\"y\":[6,7,8,7,3]}},\"id\":\"57c8ef96-6497-4aa0-9982-7240d54bd7ae\",\"type\":\"ColumnDataSource\"},{\"attributes\":{},\"id\":\"4ec6dfcb-0696-44f6-b123-802b12058aa2\",\"type\":\"SaveTool\"},{\"attributes\":{},\"id\":\"0bf43a06-b00e-461b-8664-d5417d950b38\",\"type\":\"PanTool\"},{\"attributes\":{\"fill_alpha\":{\"value\":0.1},\"fill_color\":{\"value\":\"#1f77b4\"},\"line_alpha\":{\"value\":0.1},\"line_color\":{\"value\":\"#1f77b4\"},\"size\":{\"units\":\"screen\",\"value\":8},\"x\":{\"field\":\"x\"},\"y\":{\"field\":\"y\"}},\"id\":\"1fc9b339-a3cb-4429-aada-d1b42ea3b9d4\",\"type\":\"Diamond\"},{\"attributes\":{\"callback\":null},\"id\":\"4dd2b95f-6201-4293-9692-bb748bb9dbac\",\"type\":\"DataRange1d\"},{\"attributes\":{\"bottom_units\":\"screen\",\"fill_alpha\":{\"value\":0.5},\"fill_color\":{\"value\":\"lightgrey\"},\"left_units\":\"screen\",\"level\":\"overlay\",\"line_alpha\":{\"value\":1.0},\"line_color\":{\"value\":\"black\"},\"line_dash\":[4,4],\"line_width\":{\"value\":2},\"plot\":null,\"render_mode\":\"css\",\"right_units\":\"screen\",\"top_units\":\"screen\"},\"id\":\"1c8ca728-faa5-45d6-9faf-9b24a254f016\",\"type\":\"BoxAnnotation\"},{\"attributes\":{\"plot\":{\"id\":\"5b611f2c-dd51-4047-aba8-02c4113b8407\",\"subtype\":\"Figure\",\"type\":\"Plot\"},\"ticker\":{\"id\":\"21f36b7b-aeaf-49fe-a638-4b9b97d926ae\",\"type\":\"BasicTicker\"}},\"id\":\"cae28f43-679f-4f15-876c-3c768251a5b7\",\"type\":\"Grid\"},{\"attributes\":{},\"id\":\"97f82fd9-ac15-4ab9-bcf6-b06ed670f83a\",\"type\":\"WheelZoomTool\"},{\"attributes\":{\"line_color\":\"#1f77b4\",\"line_width\":2,\"x\":{\"field\":\"x\"},\"y\":{\"field\":\"y\"}},\"id\":\"c3b0905f-6f0d-4519-b4f0-c59f079945b9\",\"type\":\"Line\"},{\"attributes\":{\"callback\":null},\"id\":\"e0da4076-9b10-4c1b-b113-7e6c06b50823\",\"type\":\"DataRange1d\"},{\"attributes\":{\"callback\":null,\"column_names\":[\"x\",\"y\"],\"data\":{\"x\":[1,2,3,4,5],\"y\":[6,7,8,7,3]}},\"id\":\"7ad4003f-d0ad-4317-ae7d-9be4a0c62b38\",\"type\":\"ColumnDataSource\"},{\"attributes\":{\"active_drag\":\"auto\",\"active_inspect\":\"auto\",\"active_scroll\":\"auto\",\"active_tap\":\"auto\",\"tools\":[{\"id\":\"0bf43a06-b00e-461b-8664-d5417d950b38\",\"type\":\"PanTool\"},{\"id\":\"97f82fd9-ac15-4ab9-bcf6-b06ed670f83a\",\"type\":\"WheelZoomTool\"},{\"id\":\"47c5c26e-f422-41d8-a1cb-48dcb5fb6ef0\",\"type\":\"BoxZoomTool\"},{\"id\":\"4ec6dfcb-0696-44f6-b123-802b12058aa2\",\"type\":\"SaveTool\"},{\"id\":\"2dc6d120-b1fb-460d-b7cc-4fa32e8098ff\",\"type\":\"ResetTool\"},{\"id\":\"2fe78abe-e843-4521-a7b3-2b830b36a8b3\",\"type\":\"HelpTool\"}]},\"id\":\"a5edec9c-d23d-4874-acf4-cea96d11bb76\",\"type\":\"Toolbar\"},{\"attributes\":{},\"id\":\"2fe78abe-e843-4521-a7b3-2b830b36a8b3\",\"type\":\"HelpTool\"},{\"attributes\":{\"below\":[{\"id\":\"8fbd5c61-13da-46f9-b751-4f07bcf39cb9\",\"type\":\"LinearAxis\"}],\"left\":[{\"id\":\"b33a10a2-8295-4a56-b76a-2676ab3b5a2d\",\"type\":\"LinearAxis\"}],\"plot_height\":400,\"plot_width\":400,\"renderers\":[{\"id\":\"8fbd5c61-13da-46f9-b751-4f07bcf39cb9\",\"type\":\"LinearAxis\"},{\"id\":\"cae28f43-679f-4f15-876c-3c768251a5b7\",\"type\":\"Grid\"},{\"id\":\"b33a10a2-8295-4a56-b76a-2676ab3b5a2d\",\"type\":\"LinearAxis\"},{\"id\":\"9bd3e4b4-244c-47c1-ab03-1478edaa081f\",\"type\":\"Grid\"},{\"id\":\"1c8ca728-faa5-45d6-9faf-9b24a254f016\",\"type\":\"BoxAnnotation\"},{\"id\":\"78df6f6c-1ae4-436a-a674-475837f2b590\",\"type\":\"GlyphRenderer\"},{\"id\":\"bafeb75c-b26e-402a-bde7-3f749b000459\",\"type\":\"GlyphRenderer\"}],\"title\":{\"id\":\"ac6d5581-8343-4d65-9f69-410a7596cd50\",\"type\":\"Title\"},\"toolbar\":{\"id\":\"a5edec9c-d23d-4874-acf4-cea96d11bb76\",\"type\":\"Toolbar\"},\"x_range\":{\"id\":\"e0da4076-9b10-4c1b-b113-7e6c06b50823\",\"type\":\"DataRange1d\"},\"x_scale\":{\"id\":\"39309123-31cd-4847-accd-38fbe99559f7\",\"type\":\"LinearScale\"},\"y_range\":{\"id\":\"4dd2b95f-6201-4293-9692-bb748bb9dbac\",\"type\":\"DataRange1d\"},\"y_scale\":{\"id\":\"0a3a949c-1d71-44de-81cf-a75e33f611cb\",\"type\":\"LinearScale\"}},\"id\":\"5b611f2c-dd51-4047-aba8-02c4113b8407\",\"subtype\":\"Figure\",\"type\":\"Plot\"},{\"attributes\":{},\"id\":\"36f27a09-0cae-4491-b4bd-d6ca3e9e3013\",\"type\":\"BasicTicker\"},{\"attributes\":{},\"id\":\"2dc6d120-b1fb-460d-b7cc-4fa32e8098ff\",\"type\":\"ResetTool\"},{\"attributes\":{\"formatter\":{\"id\":\"0ee77e16-5e0f-4b3a-b36a-69bcba5cd9ff\",\"type\":\"BasicTickFormatter\"},\"plot\":{\"id\":\"5b611f2c-dd51-4047-aba8-02c4113b8407\",\"subtype\":\"Figure\",\"type\":\"Plot\"},\"ticker\":{\"id\":\"36f27a09-0cae-4491-b4bd-d6ca3e9e3013\",\"type\":\"BasicTicker\"}},\"id\":\"b33a10a2-8295-4a56-b76a-2676ab3b5a2d\",\"type\":\"LinearAxis\"},{\"attributes\":{},\"id\":\"0a3a949c-1d71-44de-81cf-a75e33f611cb\",\"type\":\"LinearScale\"},{\"attributes\":{\"data_source\":{\"id\":\"7ad4003f-d0ad-4317-ae7d-9be4a0c62b38\",\"type\":\"ColumnDataSource\"},\"glyph\":{\"id\":\"4b1953de-716c-4a0e-9bfc-f31dbd005aca\",\"type\":\"Diamond\"},\"hover_glyph\":null,\"muted_glyph\":null,\"nonselection_glyph\":{\"id\":\"1fc9b339-a3cb-4429-aada-d1b42ea3b9d4\",\"type\":\"Diamond\"},\"selection_glyph\":null,\"view\":{\"id\":\"b97e1985-f253-4daa-b44f-0082b01dee07\",\"type\":\"CDSView\"}},\"id\":\"bafeb75c-b26e-402a-bde7-3f749b000459\",\"type\":\"GlyphRenderer\"},{\"attributes\":{},\"id\":\"39309123-31cd-4847-accd-38fbe99559f7\",\"type\":\"LinearScale\"},{\"attributes\":{\"source\":{\"id\":\"57c8ef96-6497-4aa0-9982-7240d54bd7ae\",\"type\":\"ColumnDataSource\"}},\"id\":\"ba42e7b3-0718-4503-a79c-a1f655ea0f94\",\"type\":\"CDSView\"},{\"attributes\":{},\"id\":\"21f36b7b-aeaf-49fe-a638-4b9b97d926ae\",\"type\":\"BasicTicker\"},{\"attributes\":{\"line_alpha\":0.1,\"line_color\":\"#1f77b4\",\"line_width\":2,\"x\":{\"field\":\"x\"},\"y\":{\"field\":\"y\"}},\"id\":\"9263e506-6fa0-4bed-bb6b-a514715dd53c\",\"type\":\"Line\"},{\"attributes\":{\"formatter\":{\"id\":\"f20899f6-7cd6-4c83-ad51-5af75479756f\",\"type\":\"BasicTickFormatter\"},\"plot\":{\"id\":\"5b611f2c-dd51-4047-aba8-02c4113b8407\",\"subtype\":\"Figure\",\"type\":\"Plot\"},\"ticker\":{\"id\":\"21f36b7b-aeaf-49fe-a638-4b9b97d926ae\",\"type\":\"BasicTicker\"}},\"id\":\"8fbd5c61-13da-46f9-b751-4f07bcf39cb9\",\"type\":\"LinearAxis\"},{\"attributes\":{\"fill_color\":{\"value\":\"white\"},\"line_color\":{\"value\":\"#1f77b4\"},\"size\":{\"units\":\"screen\",\"value\":8},\"x\":{\"field\":\"x\"},\"y\":{\"field\":\"y\"}},\"id\":\"4b1953de-716c-4a0e-9bfc-f31dbd005aca\",\"type\":\"Diamond\"},{\"attributes\":{\"dimension\":1,\"plot\":{\"id\":\"5b611f2c-dd51-4047-aba8-02c4113b8407\",\"subtype\":\"Figure\",\"type\":\"Plot\"},\"ticker\":{\"id\":\"36f27a09-0cae-4491-b4bd-d6ca3e9e3013\",\"type\":\"BasicTicker\"}},\"id\":\"9bd3e4b4-244c-47c1-ab03-1478edaa081f\",\"type\":\"Grid\"},{\"attributes\":{\"plot\":null,\"text\":\"\"},\"id\":\"ac6d5581-8343-4d65-9f69-410a7596cd50\",\"type\":\"Title\"}],\"root_ids\":[\"5b611f2c-dd51-4047-aba8-02c4113b8407\"]},\"title\":\"Bokeh Application\",\"version\":\"0.12.14\"}};\n",
       "  var render_items = [{\"docid\":\"68ae8fe7-184c-4cb3-b5cc-a747a88a414d\",\"elementid\":\"93ede1ba-53df-4bb8-8e7c-1a6a397a6982\",\"modelid\":\"5b611f2c-dd51-4047-aba8-02c4113b8407\"}];\n",
       "  root.Bokeh.embed.embed_items_notebook(docs_json, render_items);\n",
       "\n",
       "  }\n",
       "  if (root.Bokeh !== undefined) {\n",
       "    embed_document(root);\n",
       "  } else {\n",
       "    var attempts = 0;\n",
       "    var timer = setInterval(function(root) {\n",
       "      if (root.Bokeh !== undefined) {\n",
       "        embed_document(root);\n",
       "        clearInterval(timer);\n",
       "      }\n",
       "      attempts++;\n",
       "      if (attempts > 100) {\n",
       "        console.log(\"Bokeh: ERROR: Unable to run BokehJS code because BokehJS library is missing\")\n",
       "        clearInterval(timer);\n",
       "      }\n",
       "    }, 10, root)\n",
       "  }\n",
       "})(window);"
      ],
      "application/vnd.bokehjs_exec.v0+json": ""
     },
     "metadata": {
      "application/vnd.bokehjs_exec.v0+json": {
       "id": "5b611f2c-dd51-4047-aba8-02c4113b8407"
      }
     },
     "output_type": "display_data"
    }
   ],
   "source": [
    "# EXERCISE: create your own plot combining multiple glyphs together\n",
    "\n",
    "# set up some data\n",
    "x = [1, 2, 3, 4, 5]\n",
    "y = [6, 7, 8, 7, 3]\n",
    "\n",
    "# create a new plot with figure\n",
    "p = figure(plot_width=400, plot_height=400)\n",
    "\n",
    "# add both a line and circles on the same plot\n",
    "p.line(x, y, line_width=2)\n",
    "p.diamond(x, y, fill_color=\"white\", size=8)\n",
    "\n",
    "show(p) # show the results"
   ]
  },
  {
   "cell_type": "code",
   "execution_count": null,
   "metadata": {},
   "outputs": [],
   "source": []
  }
 ],
 "metadata": {
  "anaconda-cloud": {},
  "kernelspec": {
   "display_name": "Python 3",
   "language": "python",
   "name": "python3"
  },
  "language_info": {
   "codemirror_mode": {
    "name": "ipython",
    "version": 3
   },
   "file_extension": ".py",
   "mimetype": "text/x-python",
   "name": "python",
   "nbconvert_exporter": "python",
   "pygments_lexer": "ipython3",
   "version": "3.6.4"
  }
 },
 "nbformat": 4,
 "nbformat_minor": 1
}
