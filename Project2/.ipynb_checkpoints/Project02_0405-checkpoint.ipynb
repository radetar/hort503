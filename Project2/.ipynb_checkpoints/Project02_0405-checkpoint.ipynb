{
 "cells": [
  {
   "cell_type": "code",
   "execution_count": 25,
   "metadata": {},
   "outputs": [],
   "source": [
    "import pandas as pd\n",
    "import matplotlib.pyplot as plt\n",
    "import numpy as np\n",
    "import re\n",
    "from collections import OrderedDict\n",
    "from sys import argv\n",
    "# script, pileup= argv\n",
    "\n",
    "%matplotlib inline\n",
    "\n",
    "pileup = 'Fragaria_x_ananassa-Winter_Dawn_vs_fvesca_v1.1_pseudo.fna.LG1_50K.pileup'\n"
   ]
  },
  {
   "cell_type": "code",
   "execution_count": 26,
   "metadata": {},
   "outputs": [],
   "source": [
    "###read in file\n",
    "putable = pd.read_table(pileup, sep=\"\\t\",header=None)"
   ]
  },
  {
   "cell_type": "code",
   "execution_count": 27,
   "metadata": {},
   "outputs": [],
   "source": [
    "###skip lines containing *,+,-,<,>, or that have less than 10 reads\n",
    "skips = ['\\*','\\+','\\-','\\<','\\>']\n",
    "putable= putable[putable[4].str.contains('|'.join(skips)) == False & (putable[4].str.len() >= 10)]\n"
   ]
  },
  {
   "cell_type": "code",
   "execution_count": 28,
   "metadata": {},
   "outputs": [],
   "source": [
    "#replace $ or ^ with empty string\n",
    "putable[4] = putable[4].str.replace('\\^.|\\$','', case=None, flags=0)"
   ]
  },
  {
   "cell_type": "code",
   "execution_count": 53,
   "metadata": {},
   "outputs": [],
   "source": [
    "###GO through table line by line, initaite some counters:\n",
    "SNPs = pd.DataFrame()\n",
    "for index, row in putable.iterrows():\n",
    "    match = 0                                         \n",
    "    bases={\"A\":0,\"C\":0,\"G\":0,\"T\":0}                        # save counts in dictionary\n",
    "    for i, char in enumerate(row[5]):                      #read in bases one by one, keeping track of index\n",
    "        if ord(char)-33 >= 30:                             #calculate phred, pass on reads with phred >= 30\n",
    "            if re.match(\",|\\.\", row[4][i]):              \n",
    "                match += 1\n",
    "            elif re.match(\"A\", row[4][i] ,re.IGNORECASE):  #count number of mismatches pertaining to each base\n",
    "                bases[\"A\"] += 1\n",
    "            elif re.match(\"T\", row[4][i] ,re.IGNORECASE):\n",
    "                bases[\"T\"] += 1\n",
    "            elif re.match(\"C\",row[4][i] ,re.IGNORECASE):\n",
    "                bases[\"C\"] += 1\n",
    "            elif re.match(\"G\", row[4][i] ,re.IGNORECASE):\n",
    "                bases[\"G\"] += 1\n",
    "            else:\n",
    "                print(\"ERROR-unknown character in pileup\",row[1],row[4][i])\n",
    "    \n",
    "    for key,value in bases.items():                        #check that number of mismatches per base is >=3, calc. freq\n",
    "        if value >= 3:\n",
    "            frequency = value/len(row[5])\n",
    "            blah = pd.DataFrame(OrderedDict({\"chromosome\":[row[0]],\"position\":[row[1]],\"ref_base\":[row[2]],\"SNP_base\":[key],\"frequency\":[frequency]}))\n",
    "            SNPs = SNPs.append(blah,ignore_index=True)"
   ]
  },
  {
   "cell_type": "code",
   "execution_count": 54,
   "metadata": {},
   "outputs": [
    {
     "data": {
      "text/html": [
       "<div>\n",
       "<style scoped>\n",
       "    .dataframe tbody tr th:only-of-type {\n",
       "        vertical-align: middle;\n",
       "    }\n",
       "\n",
       "    .dataframe tbody tr th {\n",
       "        vertical-align: top;\n",
       "    }\n",
       "\n",
       "    .dataframe thead th {\n",
       "        text-align: right;\n",
       "    }\n",
       "</style>\n",
       "<table border=\"1\" class=\"dataframe\">\n",
       "  <thead>\n",
       "    <tr style=\"text-align: right;\">\n",
       "      <th></th>\n",
       "      <th>chromosome</th>\n",
       "      <th>position</th>\n",
       "      <th>ref_base</th>\n",
       "      <th>SNP_base</th>\n",
       "      <th>frequency</th>\n",
       "    </tr>\n",
       "  </thead>\n",
       "  <tbody>\n",
       "    <tr>\n",
       "      <th>0</th>\n",
       "      <td>LG1</td>\n",
       "      <td>312</td>\n",
       "      <td>G</td>\n",
       "      <td>C</td>\n",
       "      <td>0.857143</td>\n",
       "    </tr>\n",
       "    <tr>\n",
       "      <th>1</th>\n",
       "      <td>LG1</td>\n",
       "      <td>412</td>\n",
       "      <td>C</td>\n",
       "      <td>T</td>\n",
       "      <td>0.888889</td>\n",
       "    </tr>\n",
       "    <tr>\n",
       "      <th>2</th>\n",
       "      <td>LG1</td>\n",
       "      <td>442</td>\n",
       "      <td>C</td>\n",
       "      <td>G</td>\n",
       "      <td>0.846154</td>\n",
       "    </tr>\n",
       "    <tr>\n",
       "      <th>3</th>\n",
       "      <td>LG1</td>\n",
       "      <td>516</td>\n",
       "      <td>C</td>\n",
       "      <td>G</td>\n",
       "      <td>0.961538</td>\n",
       "    </tr>\n",
       "    <tr>\n",
       "      <th>4</th>\n",
       "      <td>LG1</td>\n",
       "      <td>791</td>\n",
       "      <td>T</td>\n",
       "      <td>C</td>\n",
       "      <td>0.891892</td>\n",
       "    </tr>\n",
       "  </tbody>\n",
       "</table>\n",
       "</div>"
      ],
      "text/plain": [
       "  chromosome  position ref_base SNP_base  frequency\n",
       "0        LG1       312        G        C   0.857143\n",
       "1        LG1       412        C        T   0.888889\n",
       "2        LG1       442        C        G   0.846154\n",
       "3        LG1       516        C        G   0.961538\n",
       "4        LG1       791        T        C   0.891892"
      ]
     },
     "execution_count": 54,
     "metadata": {},
     "output_type": "execute_result"
    }
   ],
   "source": [
    "#write SNPS to file\n",
    "SNPs.to_csv(\"SNPs.txt\", \"\\t\",index=False)\n",
    "SNPs.head()"
   ]
  },
  {
   "cell_type": "code",
   "execution_count": 55,
   "metadata": {},
   "outputs": [
    {
     "data": {
      "text/plain": [
       "<Figure size 432x288 with 0 Axes>"
      ]
     },
     "metadata": {},
     "output_type": "display_data"
    },
    {
     "data": {
      "image/png": "[encoded data removed]",
      "text/plain": [
       "<Figure size 432x288 with 1 Axes>"
      ]
     },
     "metadata": {},
     "output_type": "display_data"
    }
   ],
   "source": [
    "#Make the plot\n",
    "\n",
    "plt.figure();\n",
    "SNPs.plot.bar(x ='position',y ='frequency',legend=False)\n",
    "plt.ylim(0, 1.1)\n",
    "plt.xlim(0,60885)\n",
    "plt.xticks(np.arange(0,60881,10000))\n",
    "plt.savefig(\"SNPs.png\",dpi=300)\n",
    "plt.show()"
   ]
  }
 ],
 "metadata": {
  "kernelspec": {
   "display_name": "Python 3",
   "language": "python",
   "name": "python3"
  },
  "language_info": {
   "codemirror_mode": {
    "name": "ipython",
    "version": 3
   },
   "file_extension": ".py",
   "mimetype": "text/x-python",
   "name": "python",
   "nbconvert_exporter": "python",
   "pygments_lexer": "ipython3",
   "version": "3.6.5"
  }
 },
 "nbformat": 4,
 "nbformat_minor": 2
}
