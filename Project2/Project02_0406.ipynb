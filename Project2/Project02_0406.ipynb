{
 "cells": [
  {
   "cell_type": "code",
   "execution_count": 1,
   "metadata": {},
   "outputs": [],
   "source": [
    "import pandas as pd\n",
    "import matplotlib.pyplot as plt\n",
    "import numpy as np\n",
    "import re\n",
    "from collections import OrderedDict\n",
    "\n",
    "%matplotlib inline\n",
    "\n",
    "from sys import argv\n",
    "script, pileup= argv\n",
    "\n"
   ]
  },
  {
   "cell_type": "code",
   "execution_count": 2,
   "metadata": {},
   "outputs": [],
   "source": [
    "###read in file\n",
    "pileup = \"Fragaria_x_ananassa-Winter_Dawn_vs_fvesca_v1.1_pseudo.fna.LG1_50K.pileup\"\n",
    "putable = pd.read_table(pileup, sep=\"\\t\",header=None)\n",
    "# putable = putable.head(5000)"
   ]
  },
  {
   "cell_type": "code",
   "execution_count": 3,
   "metadata": {},
   "outputs": [],
   "source": [
    "###skip lines containing *,+,-,<,>, or that have less than 10 reads\n",
    "skips = ['\\*','\\+','\\-','\\<','\\>']\n",
    "putable= putable[putable[4].str.contains('|'.join(skips)) == False]\n",
    "putable = putable[putable[4].str.len() >= 10]\n"
   ]
  },
  {
   "cell_type": "code",
   "execution_count": 4,
   "metadata": {},
   "outputs": [],
   "source": [
    "#replace $ or ^ with empty string\n",
    "putable[4] = putable[4].str.replace(r'\\^.|\\$','', case=None, flags=0)"
   ]
  },
  {
   "cell_type": "code",
   "execution_count": 6,
   "metadata": {},
   "outputs": [],
   "source": [
    "###GO through table line by line, initaite some counters:\n",
    "SNPs = pd.DataFrame()\n",
    "for index, row in putable.iterrows():\n",
    "    match = 0                                              ###### may not need this after dev.\n",
    "    bases={\"A\":0,\"C\":0,\"G\":0,\"T\":0} # save counts in dictionary\n",
    "    for i, char in enumerate(row[5]):\n",
    "        if ord(char)-33 >= 30:  \n",
    "            if re.match(\",|\\.\", row[4][i]):               ######may not need this after dev.\n",
    "                match += 1\n",
    "            elif re.match(\"A\", row[4][i] ,re.IGNORECASE):  #count number of mismatches pertaining to each base\n",
    "                bases[\"A\"] += 1\n",
    "            elif re.match(\"T\", row[4][i] ,re.IGNORECASE):\n",
    "                bases[\"T\"] += 1\n",
    "            elif re.match(\"C\",row[4][i] ,re.IGNORECASE):\n",
    "                bases[\"C\"] += 1\n",
    "            elif re.match(\"G\", row[4][i] ,re.IGNORECASE):\n",
    "                bases[\"G\"] += 1\n",
    "            else:\n",
    "                print(\"ERROR-unknown character in pileup\",row[1],row[4][i])\n",
    "    \n",
    "    for key,value in bases.items():                        #check that number of mismatches per base is >=3, calc. freq\n",
    "        if value >= 3:\n",
    "            total= len(row[4])\n",
    "            frequency = (float(value)/float(total))\n",
    "            blah = pd.DataFrame(OrderedDict({\"chromosome\":[row[0]],\"position\":[row[1]],\"ref_base\":[row[2]],\"SNP_base\":[key],\"frequency\":[frequency]}), index=[1])\n",
    "            SNPs = SNPs.append(blah,ignore_index=True)\n",
    "SNPs=SNPs[['chromosome','position','ref_base','SNP_base','frequency']]\n",
    "        "
   ]
  },
  {
   "cell_type": "code",
   "execution_count": 7,
   "metadata": {},
   "outputs": [],
   "source": [
    "#write SNPS to file\n",
    "SNPs.to_csv(\"SNPs.txt\", \"\\t\")"
   ]
  },
  {
   "cell_type": "code",
   "execution_count": 9,
   "metadata": {},
   "outputs": [
    {
     "data": {
      "text/plain": [
       "<Figure size 432x288 with 0 Axes>"
      ]
     },
     "metadata": {},
     "output_type": "display_data"
    },
    {
     "data": {
      "image/png": "[encoded data removed]",
      "text/plain": [
       "<Figure size 432x288 with 1 Axes>"
      ]
     },
     "metadata": {},
     "output_type": "display_data"
    }
   ],
   "source": [
    "#Plot Figure and save as png\n",
    "plt.figure();\n",
    "ax = SNPs.plot(x = 'position',y ='frequency',legend=None, kind ='bar')\n",
    "xticks= list(range(1,len(SNPs),100))\n",
    "ax.set_xticks(xticks)\n",
    "ax.set_xticklabels(SNPs.loc[xticks, 'position'])\n",
    "plt.savefig(\"SNPs.png\",dpi=300)\n",
    "plt.show()\n"
   ]
  },
  {
   "cell_type": "code",
   "execution_count": null,
   "metadata": {},
   "outputs": [],
   "source": []
  }
 ],
 "metadata": {
  "kernelspec": {
   "display_name": "Python 3",
   "language": "python",
   "name": "python3"
  },
  "language_info": {
   "codemirror_mode": {
    "name": "ipython",
    "version": 3
   },
   "file_extension": ".py",
   "mimetype": "text/x-python",
   "name": "python",
   "nbconvert_exporter": "python",
   "pygments_lexer": "ipython3",
   "version": "3.6.5"
  }
 },
 "nbformat": 4,
 "nbformat_minor": 2
}
